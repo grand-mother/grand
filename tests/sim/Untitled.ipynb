{
 "cells": [
  {
   "cell_type": "code",
   "execution_count": 1,
   "id": "a7535fe9-d04f-4942-9a52-c80da65e7714",
   "metadata": {},
   "outputs": [],
   "source": [
    "from pathlib import Path\n",
    "import unittest\n",
    "from tests import TestCase\n",
    "import os.path as osp"
   ]
  },
  {
   "cell_type": "code",
   "execution_count": 2,
   "id": "1f92586b-9ee0-4317-9808-0c97eba7a4b5",
   "metadata": {},
   "outputs": [
    {
     "name": "stdout",
     "output_type": "stream",
     "text": [
      "Welcome to JupyROOT 6.26/02\n"
     ]
    }
   ],
   "source": [
    "import numpy\n",
    "\n",
    "from grand import ECEF, CartesianRepresentation, LTP\n",
    "from grand.sim.detector.process_ant import AntennaProcessing\n",
    "from grand.basis.type_trace import ElectricField,Voltage\n",
    "from grand import grand_add_path_data\n",
    "from grand.sim.detector.antenna_model import tabulated_antenna_model\n",
    "from grand.sim.detector.process_ant import MissingFrameError"
   ]
  }
 ],
 "metadata": {
  "kernelspec": {
   "display_name": "Python 3 (ipykernel)",
   "language": "python",
   "name": "python3"
  },
  "language_info": {
   "codemirror_mode": {
    "name": "ipython",
    "version": 3
   },
   "file_extension": ".py",
   "mimetype": "text/x-python",
   "name": "python",
   "nbconvert_exporter": "python",
   "pygments_lexer": "ipython3",
   "version": "3.8.10"
  }
 },
 "nbformat": 4,
 "nbformat_minor": 5
}
