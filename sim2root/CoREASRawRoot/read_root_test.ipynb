{
 "cells": [
  {
   "cell_type": "code",
   "execution_count": 10,
   "id": "3f73ae90-1504-4147-98f4-21246990aa87",
   "metadata": {},
   "outputs": [
    {
     "name": "stderr",
     "output_type": "stream",
     "text": [
      "File /home/grand/sim2root/Common/sim_nosite_19000101__0001/trunefieldsim_0-0_L0_0000.root doesn't content TTree teventefield or teventvoltage. It contains ['trunefieldsim'].\n"
     ]
    },
    {
     "ename": "AssertionError",
     "evalue": "",
     "output_type": "error",
     "traceback": [
      "\u001b[0;31m---------------------------------------------------------------------------\u001b[0m",
      "\u001b[0;31mAssertionError\u001b[0m                            Traceback (most recent call last)",
      "Cell \u001b[0;32mIn[10], line 16\u001b[0m\n\u001b[1;32m      8\u001b[0m \u001b[38;5;66;03m################################################################################\u001b[39;00m\n\u001b[1;32m      9\u001b[0m \u001b[38;5;66;03m##Functions\u001b[39;00m\n\u001b[1;32m     10\u001b[0m \n\u001b[1;32m     11\u001b[0m \u001b[38;5;66;03m################################################################################\u001b[39;00m\n\u001b[1;32m     12\u001b[0m \u001b[38;5;66;03m##Main\u001b[39;00m\n\u001b[1;32m     13\u001b[0m rootsim_path \u001b[38;5;241m=\u001b[39m \u001b[38;5;124m'\u001b[39m\u001b[38;5;124m/home/grand/sim2root/Common/sim_nosite_19000101__0001/trunefieldsim_0-0_L0_0000.root\u001b[39m\u001b[38;5;124m'\u001b[39m\n\u001b[0;32m---> 16\u001b[0m event_files \u001b[38;5;241m=\u001b[39m \u001b[43mgdr\u001b[49m\u001b[38;5;241;43m.\u001b[39;49m\u001b[43mget_file_event\u001b[49m\u001b[43m(\u001b[49m\u001b[43mrootsim_path\u001b[49m\u001b[43m)\u001b[49m \u001b[38;5;66;03m#open the root file with all events\u001b[39;00m\n\u001b[1;32m     17\u001b[0m nevent \u001b[38;5;241m=\u001b[39m event_files\u001b[38;5;241m.\u001b[39mget_nb_events() \u001b[38;5;66;03m#get the total number of events\u001b[39;00m\n\u001b[1;32m     20\u001b[0m \u001b[38;5;66;03m#for i in range(nevent-1):#loop over all events\u001b[39;00m\n",
      "File \u001b[0;32m/home/grand/grand/dataio/root_files.py:315\u001b[0m, in \u001b[0;36mget_file_event\u001b[0;34m(f_name)\u001b[0m\n\u001b[1;32m    311\u001b[0m     \u001b[38;5;28;01mreturn\u001b[39;00m FileVoltage(f_name, \u001b[38;5;28;01mFalse\u001b[39;00m)\n\u001b[1;32m    312\u001b[0m logger\u001b[38;5;241m.\u001b[39merror(\n\u001b[1;32m    313\u001b[0m     \u001b[38;5;124mf\u001b[39m\u001b[38;5;124m\"\u001b[39m\u001b[38;5;124mFile \u001b[39m\u001b[38;5;132;01m{\u001b[39;00mf_name\u001b[38;5;132;01m}\u001b[39;00m\u001b[38;5;124m doesn\u001b[39m\u001b[38;5;124m'\u001b[39m\u001b[38;5;124mt content TTree teventefield or teventvoltage. It contains \u001b[39m\u001b[38;5;132;01m{\u001b[39;00mtrees_list\u001b[38;5;132;01m}\u001b[39;00m\u001b[38;5;124m.\u001b[39m\u001b[38;5;124m\"\u001b[39m\n\u001b[1;32m    314\u001b[0m )\n\u001b[0;32m--> 315\u001b[0m \u001b[38;5;28;01mraise\u001b[39;00m \u001b[38;5;167;01mAssertionError\u001b[39;00m\n",
      "\u001b[0;31mAssertionError\u001b[0m: "
     ]
    }
   ],
   "source": [
    "import sys\n",
    "import os\n",
    "import numpy as np\n",
    "import grand.dataio.root_files as gdr\n",
    "import matplotlib.pyplot as plt\n",
    "from mpl_toolkits.mplot3d import axes3d\n",
    "\n",
    "################################################################################\n",
    "##Functions\n",
    "\n",
    "################################################################################\n",
    "##Main\n",
    "rootsim_path = '/home/grand/sim2root/Common/sim_nosite_19000101__0001/trunefieldsim_0-0_L0_0000.root'\n",
    "\n",
    "\n",
    "event_files = gdr.get_file_event(rootsim_path) #open the root file with all events\n",
    "nevent = event_files.get_nb_events() #get the total number of events\n",
    "\n",
    "\n",
    "#for i in range(nevent-1):#loop over all events\n",
    "for i in range(nevent):#loop over all events\n",
    "    print(f\"->{(i+1)/nevent*100:.1f}%\")\n",
    "\n",
    "    event_files.load_event_idx(i)\n",
    "    zenith = event_files.tt_shower.zenith\n",
    "    azimuth = event_files.tt_shower.azimuth\n",
    "    energy_primary = event_files.tt_shower.energy_primary\n",
    "    xmax = event_files.tt_shower.xmax_pos_shc #Xmax location in shower core frame (because doesn't work in detector frame!)\n",
    "    xmax_dist = np.linalg.norm(xmax) #Xmax distance to shower core\n",
    "    shower_core = event_files.tt_shower.shower_core_pos #in detector frame\n",
    "    coreAlt = event_files.tt_shower.core_alt #??\n",
    "    MagneticField = event_files.tt_shower.magnetic_field\n",
    "    primary = event_files.tt_shower.primary_type\n",
    "    xmax_gram = event_files.tt_shower.xmax_grams\n",
    "    energy_em = event_files.tt_shower.energy_em\n",
    "    energy_unit = 'GeV'# could not find corresping field in root files\n",
    "\n",
    "    print(f\"Zenith = {zenith:.1f}°, Azimuth = {azimuth:.1f}°, Primary energy = {energy_primary:.3e} GeV, EM energy = {energy_em:.3e} GeV\")\n",
    "    print(f\"Xmax location ({xmax[0]:.2f}, {xmax[1]:.2f}, {xmax[2]:.2f}), Xmax grammage = {xmax_gram:.3f} g/cm^2, Primary type {primary}\")\n",
    "    print(f\"Shower core location ({shower_core[0]:.2f}, {shower_core[1]:.2f}, {shower_core[2]:.2f}), core altitude = {coreAlt:.2f} m\")\n",
    "\n",
    "\n",
    "    ef3d = event_files.get_obj_handling3dtraces()\n",
    "    peakT, peakA = ef3d.get_tmax_vmax(hilbert=True)\n",
    "    #peakT, peakA = ef3d.get_tmax_vmax()\n",
    "    xant, yant, zant = ef3d.network.du_pos.T\n",
    "    eventID = int(ef3d.name.split(\"EVT_NB=\")[1].split(\",\")[0]) \n",
    "    #eventID = int(ef3d.name.split(\"EVT_NB=\")[0].split(\",\")[0]) \n",
    "    runID = int(ef3d.name.split(\"RUN_NB=\")[1])\n",
    "\n",
    "    coreAlt = 1264. #m -> not filled in root files...\n",
    "    zant +=coreAlt\n",
    "    shower_core[2] += coreAlt\n",
    "\n",
    "    xmax_grand = xmax + shower_core #detector frame\n",
    "    xmax_grand[2] -= coreAlt #because zxmax is laready from sea level...\n",
    "    k_shower = np.array([np.cos(azimuth*np.pi/180.)*np.sin(zenith*np.pi/180),np.sin(azimuth*np.pi/180.)*np.sin(zenith*np.pi/180), np.cos(zenith*np.pi/180)]).T\n",
    "\n",
    "    print(event_files.tt_run.du_geoid)\n",
    "    print(event_files.tt_run.origin_geoid)\n",
    "    print(event_files.tt_run.du_xyz[2])\n",
    "\n",
    "    ############\n",
    "    ##Check plots\n",
    "    fa, ax = plt.subplots(subplot_kw={'projection': '3d'})\n",
    "\n",
    "    fa.suptitle(f\"Run:{runID:d}, event:{eventID:d}\\n\"+f\"Zenith = {zenith:.1f}°, Azimuth = {azimuth:.1f}°, Primary energy = {energy_primary:.3e} GeV\\n\"+f\"Xmax location ({xmax[0]:.2f}, {xmax[1]:.2f}, {xmax[2]:.2f})\")\n",
    "    ax.set_xlabel(r\"$\\rm x\\ (km)$\")\n",
    "    ax.set_ylabel(r\"$\\rm y\\ (km)$\")\n",
    "    ax.set_zlabel(r\"$\\rm z\\ (m)$\")\n",
    "\n",
    "    a = ax.scatter(xant/1.e3, yant/1.e3, zant, c=peakT)\n",
    "    ax.scatter(shower_core[0]/1.e3, shower_core[1]/1.e3, shower_core[2], color='red')\n",
    "    cbara = fa.colorbar(a, ax=ax)\n",
    "    cbara.set_label(r\"$\\rm Peak\\ Time\\ (ns)$\")\n",
    "\n",
    "\n",
    "    fb, (b1x, b2x) = plt.subplots(1,2)\n",
    "\n",
    "    fb.suptitle(f\"Zenith = {zenith:.1f}°, Azimuth = {azimuth:.1f}°, Primary energy = {energy_primary:.3e} GeV\\n\"+f\"Xmax location ({xmax[0]:.2f}, {xmax[1]:.2f}, {xmax[2]:.2f})\")\n",
    "    b1x.set_xlabel(r\"$\\rm x\\ (km)$\")\n",
    "    b2x.set_xlabel(r\"$\\rm y\\ (km)$\")\n",
    "    b1x.set_ylabel(r\"$\\rm z\\ (m)$\")\n",
    "    #b2x.set_ylabel(r\"$\\rm z\\ (m)$\")\n",
    "\n",
    "    b1x.scatter(xant/1.e3, zant, c=peakT)\n",
    "    b2x.scatter(yant/1.e3, zant, c=peakT)\n",
    "    b1x.scatter(shower_core[0]/1.e3, shower_core[2], color='red', label='core')\n",
    "    b2x.scatter(shower_core[1]/1.e3, shower_core[2], color='red')\n",
    "    b1x.scatter(xmax_grand[0]/1.e3, xmax_grand[2], color='red', label='xmax')\n",
    "    b2x.scatter(xmax_grand[1]/1.e3, xmax_grand[2], color='red')\n",
    "    b1x.plot([xmax_grand[0]/1.e3, xmax_grand[0]/1.e3-k_shower[0]*xmax_dist/1.e3], [xmax_grand[2], xmax_grand[2]-k_shower[2]*xmax_dist])\n",
    "    b2x.plot([xmax_grand[1]/1.e3, xmax_grand[1]/1.e3-k_shower[1]*xmax_dist/1.e3], [xmax_grand[2], xmax_grand[2]-k_shower[2]*xmax_dist], label='(theta, phi) inputs')\n",
    "    b1x.legend()\n",
    "    b2x.legend()\n",
    "      \n",
    "    plt.show()\n",
    "    ############\n",
    "\n",
    "print(\"-> Done\")"
   ]
  },
  {
   "cell_type": "code",
   "execution_count": 10,
   "id": "3f97e444-c05f-4405-ab34-139a61ddc58d",
   "metadata": {},
   "outputs": [
    {
     "data": {
      "text/plain": [
       "range(0, 1)"
      ]
     },
     "execution_count": 10,
     "metadata": {},
     "output_type": "execute_result"
    }
   ],
   "source": [
    "range(nevent)"
   ]
  },
  {
   "cell_type": "code",
   "execution_count": 2,
   "id": "8117a23f-2ff5-4f02-a0c3-db41259a8dde",
   "metadata": {},
   "outputs": [
    {
     "data": {
      "text/plain": [
       "['trun', 'trunshowersim', 'trunefieldsim', 'tshower', 'tshowersim', 'tefield']"
      ]
     },
     "execution_count": 2,
     "metadata": {},
     "output_type": "execute_result"
    }
   ],
   "source": [
    "import sys\n",
    "import os\n",
    "import numpy as np\n",
    "import grand.dataio.root_files as gdr\n",
    "import matplotlib.pyplot as plt\n",
    "from mpl_toolkits.mplot3d import axes3d\n",
    "gdr.get_ttree_in_file('/home/grand/sim2root/CoREASRawRoot/gr_Coreas_100141.root')"
   ]
  },
  {
   "cell_type": "code",
   "execution_count": 3,
   "id": "9963c32b-ee98-437b-814f-7a55bb8cb5bd",
   "metadata": {},
   "outputs": [
    {
     "data": {
      "text/plain": [
       "<grand.dataio.root_files.FileEfield at 0x7f465406b430>"
      ]
     },
     "execution_count": 3,
     "metadata": {},
     "output_type": "execute_result"
    }
   ],
   "source": [
    "gdr.get_file_event('/home/grand/sim2root/CoREASRawRoot/gr_Coreas_100141.root')"
   ]
  },
  {
   "cell_type": "code",
   "execution_count": null,
   "id": "cb249bff-d821-4ee9-a439-5b28f83d8b43",
   "metadata": {},
   "outputs": [],
   "source": []
  },
  {
   "cell_type": "code",
   "execution_count": null,
   "id": "3cc397d9-7ec9-4491-80c2-ea46eba39d0e",
   "metadata": {},
   "outputs": [],
   "source": []
  },
  {
   "cell_type": "code",
   "execution_count": null,
   "id": "e367bcbf-33ef-4674-948d-a1ab45f1f3c1",
   "metadata": {},
   "outputs": [],
   "source": []
  }
 ],
 "metadata": {
  "kernelspec": {
   "display_name": "Python 3 (ipykernel)",
   "language": "python",
   "name": "python3"
  },
  "language_info": {
   "codemirror_mode": {
    "name": "ipython",
    "version": 3
   },
   "file_extension": ".py",
   "mimetype": "text/x-python",
   "name": "python",
   "nbconvert_exporter": "python",
   "pygments_lexer": "ipython3",
   "version": "3.8.10"
  }
 },
 "nbformat": 4,
 "nbformat_minor": 5
}
