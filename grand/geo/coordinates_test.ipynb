{
 "cells": [
  {
   "cell_type": "code",
   "execution_count": 1,
   "id": "3e160d14-e390-4fd1-bfca-51933c370a8c",
   "metadata": {},
   "outputs": [],
   "source": [
    "import numpy as np"
   ]
  },
  {
   "cell_type": "code",
   "execution_count": 2,
   "id": "f05c54b6-90cd-4ac0-881f-858a1359ed6a",
   "metadata": {},
   "outputs": [],
   "source": [
    "#mycart2spher\n",
    "#Ateta = cos(teta)*cos(phi)*Ax + cos(teta)*sin(phi)*Ay - sin(teta)*Az;\n",
    "#Aphi = -sin(phi)*Ax + cos(phi)*Ay;\n",
    "#Ar =  sin(teta)*cos(phi)*Ax + sin(teta)*sin(phi)*Ay + cos(teta)*Az;\n",
    "\n",
    "#Etheta=Ex*(np.cos(thetarad)*np.cos(phirad))+Ey*(np.cos(thetarad)*np.sin(phirad))+Ez*(-np.sin(thetarad))\n",
    "#Ephi=Ex*(-np.sin(phirad))+Ey*(np.cos(phirad))\n",
    "\n",
    "#myspher2cart\n",
    "#Ax = cos(teta)*cos(phi)*Ateta - sin(phi)*Aphi + sin(teta)*cos(phi)*Ar;\n",
    "#Ay = cos(teta)*sin(phi)*Ateta + cos(phi)*Aphi + sin(teta)*sin(phi)*Ar;\n",
    "#Az = -sin(teta)*Ateta + cos(teta)*Ar;"
   ]
  },
  {
   "cell_type": "code",
   "execution_count": 3,
   "id": "d3d71bc4-96e9-48d2-b656-5311c2ad1bbd",
   "metadata": {},
   "outputs": [],
   "source": [
    "#cartesian_to_spherical_new(1,1,-1)"
   ]
  },
  {
   "cell_type": "code",
   "execution_count": 23,
   "id": "2eacf3a2-b719-4f9b-a99a-685ca7141c26",
   "metadata": {},
   "outputs": [],
   "source": [
    "def cartesian_to_spherical(x,y,z):\n",
    "    \"\"\"Transform Cartesian coordinates to spherical\"\"\"\n",
    "    rho2 = x ** 2 + y ** 2\n",
    "    rho = np.sqrt(rho2)\n",
    "    theta = np.rad2deg(np.arctan2(rho, z))\n",
    "    phi = np.rad2deg(np.arctan2(y, x))\n",
    "    r = np.sqrt(rho2 + z ** 2)\n",
    "    \n",
    "    return theta, phi, r\n",
    "###################################################################\n",
    "def cartesian_to_spherical_new(x,y,z):\n",
    "    \"\"\"Transform Cartesian coordinates to spherical\"\"\"\n",
    "    rho2 = x ** 2 + y ** 2\n",
    "    rho = np.sqrt(rho2)\n",
    "    theta = 180 - np.rad2deg(np.arctan2(rho, z))\n",
    "    phi = np.rad2deg(np.arctan2(y, x)) + 180\n",
    "    r = np.sqrt(rho2 + z ** 2)\n",
    "    if phi==360:\n",
    "        phi=0\n",
    "    else:\n",
    "        phi=phi\n",
    "    return theta, phi, r\n",
    "###################################################################\n",
    "def spherical_to_cartesian(theta,phi,r):\n",
    "    \"\"\"Transform spherical coordinates to Cartesian\"\"\"\n",
    "    cos_theta = np.cos(np.deg2rad(theta))\n",
    "    sin_theta = np.sin(np.deg2rad(theta))\n",
    "\n",
    "    x = r * np.cos(np.deg2rad(phi)) * sin_theta\n",
    "    y = r * np.sin(np.deg2rad(phi)) * sin_theta\n",
    "    z = r * cos_theta\n",
    "\n",
    "    return x, y, z\n",
    "###################################################################\n",
    "def spherical_to_cartesian_new(theta,phi,r):\n",
    "    \"\"\"Transform spherical coordinates to Cartesian\"\"\"\n",
    "    cos_theta = np.cos(np.deg2rad(180-theta))\n",
    "    sin_theta = np.sin(np.deg2rad(180-theta))\n",
    "\n",
    "    x = r * np.cos(np.deg2rad(phi+180)) * sin_theta\n",
    "    y = r * np.sin(np.deg2rad(phi+180)) * sin_theta\n",
    "    z = r * cos_theta\n",
    "###################################################################\n",
    "    return x, y, z\n",
    "###################################################################\n",
    "###################################################################\n",
    "\n",
    "def cartesian_to_horizontal(x, y, z):\n",
    "    \"\"\"Transform Cartesian coordinates to horizontal\"\"\"\n",
    "    theta, phi, r = cartesian_to_spherical(x, y, z)\n",
    "    return spherical_to_horizontal(theta, phi, r)\n",
    "###################################################################\n",
    "\n",
    "def cartesian_to_horizontal_new(x, y, z):\n",
    "    \"\"\"Transform Cartesian coordinates to horizontal\"\"\"\n",
    "    theta, phi, r = cartesian_to_spherical_new(x, y, z)\n",
    "    return spherical_to_horizontal_new(theta, phi, r)\n",
    "###################################################################\n",
    "\n",
    "def spherical_to_horizontal(theta, phi, r):\n",
    "    \"\"\"Transform spherical coordinates to horizontal\"\"\"\n",
    "    # return 0.5 * np.pi - phi, 0.5 * np.pi - theta, r\n",
    "    return 90.0 - phi, 90.0 - theta, r\n",
    "###################################################################\n",
    "\n",
    "def spherical_to_horizontal_new(theta, phi, r):\n",
    "    \"\"\"Transform spherical coordinates to horizontal\"\"\"\n",
    "    # return 0.5 * np.pi - phi, 0.5 * np.pi - theta, r\n",
    "    #phi_new = 180 + phi\n",
    "    #theta_new = 180 - theta\n",
    "    #return 270.0 - phi, theta - 90.0, r\n",
    "    #return 270.0 - phi, 90.0 - theta, r\n",
    "    return 270.0 - phi, theta - 90.0, r\n",
    "    #return 90.0 - phi, 90.0 - theta, r\n",
    "\n",
    "###################################################################    \n",
    "\n",
    "# Horizontal has an axis fixed to geographic North, so it can not be\n",
    "# converted like cartesian and spherical. If conversion is done, then\n",
    "# the same origin for both and ENU basis for cartesian is assumed.\n",
    "def horizontal_to_cartesian(azimuth, elevation, norm): \n",
    "    \"\"\"Transform horizontal coordinates to Cartesian\"\"\"\n",
    "    theta, phi, r = horizontal_to_spherical(azimuth, elevation, norm)\n",
    "    return spherical_to_cartesian(theta, phi, r)\n",
    "\n",
    "###################################################################\n",
    "\n",
    "def horizontal_to_cartesian_new(azimuth, elevation, norm):\n",
    "    \"\"\"Transform horizontal coordinates to Cartesian\"\"\"\n",
    "    theta, phi, r = horizontal_to_spherical_new(azimuth, elevation, norm)\n",
    "    return spherical_to_cartesian_new(theta, phi, r)\n",
    "###################################################################\n",
    "\n",
    "def horizontal_to_spherical(azimuth, elevation, norm):\n",
    "    \"\"\"Transform horizontal coordinates to spherical\"\"\"\n",
    "    # return 0.5 * np.pi - elevation, 0.5 * np.pi - azimuth, norm\n",
    "    return 90.0 - elevation, 90.0 - azimuth, norm\n",
    "###################################################################\n",
    "\n",
    "def horizontal_to_spherical_new(azimuth, elevation, norm):\n",
    "    \"\"\"Transform horizontal coordinates to spherical\"\"\"\n",
    "    # return 0.5 * np.pi - elevation, 0.5 * np.pi - azimuth, norm\n",
    "    return 90.0 + elevation, 270.0 - azimuth, norm\n",
    "    \n",
    "###################################################################\n"
   ]
  },
  {
   "cell_type": "code",
   "execution_count": 24,
   "id": "9e49c342-e33b-4a06-9a88-327cd1ff2773",
   "metadata": {},
   "outputs": [
    {
     "data": {
      "text/plain": [
       "(90.0, 180.0, 1.0)"
      ]
     },
     "execution_count": 24,
     "metadata": {},
     "output_type": "execute_result"
    }
   ],
   "source": [
    "cartesian_to_spherical(-1,0,0)"
   ]
  },
  {
   "cell_type": "code",
   "execution_count": 25,
   "id": "00022a91-1702-480c-bcf7-534dcad65831",
   "metadata": {},
   "outputs": [
    {
     "data": {
      "text/plain": [
       "(90.0, 0, 1.0)"
      ]
     },
     "execution_count": 25,
     "metadata": {},
     "output_type": "execute_result"
    }
   ],
   "source": [
    "cartesian_to_spherical_new(-1,0,0)"
   ]
  },
  {
   "cell_type": "code",
   "execution_count": 13,
   "id": "2a9d3f42-0d6e-4ada-a625-189cdb76f222",
   "metadata": {},
   "outputs": [],
   "source": [
    "#x axis continues to point north. \n",
    "#a shower coming from the north will have azimuth equal to 0, \n",
    "#and the speed of  particles flying paralel to the ground will be (-v,0,0)\n",
    "#y points west, so a shower coming from the west is  90 degrees azimuth. z poits up!.\n",
    "#i think there is indeed some misunderstandings.\n",
    "#The idea of the coordinate system is that is a standard right handed one. X points north, \n",
    "#Y points west, Z points up then the definitions of zenith and azimuth \n",
    "#is like you think of where in the sky the shower is coming FROM. \n",
    "#So if it is comming from right up, zenith is 90 deg\n",
    "#17:00 the momentum versor in this case is (0,0,-1).\n",
    "#if you have an horizontal shower coming from the north towards the south, its zenith is 90,\n",
    "#its azimuth 0, and the momentum is (-1,0,0)\n",
    "#a shower coming from the West at 60 degrees zenith, has an azimuth \n",
    "#of 90 degrees and a  momentum of (0, -0.5, -0,5)\n",
    "#(if i dont get it wrong!)"
   ]
  },
  {
   "cell_type": "code",
   "execution_count": 14,
   "id": "1c6abde7-279e-4a9f-ad58-ecfa7ef6468e",
   "metadata": {},
   "outputs": [],
   "source": [
    "#for spherical coordinates\n",
    "#New convention\n",
    "#(-v,0,0) phi=0, theta=90 (flying parallel to ground coming from north)\n",
    "#(0,-v,0) phi=90, theta=90 (flying parallel to ground coming from west)\n",
    "#(v,0,0) phi=180, theta=90 (flying parallel to ground coming from south)\n",
    "#(0,v,0) phi=270, theta=90 (flying parallel to ground coming from east)\n",
    "\n",
    "#Old convention\n",
    "#(-v,0,0) phi=180, theta=90 (flying parallel to ground coming from north)\n",
    "#(0,-v,0) phi=-90(270), theta=90 (flying parallel to ground coming from west)\n",
    "#(v,0,0) phi=0, theta=90 (flying parallel to ground coming from south)\n",
    "#(0,v,0) phi=90, theta=90 (flying parallel to ground coming from east)\n",
    "\n",
    "#for horizontal coordinates\n",
    "#in order to keep the same convention\n",
    "#(-v,0,0) azi=-90(270) ele=0 (flying parallel to ground coming from north)\n",
    "#(0,-v,0) azi=180 ele=0 (flying parallel to ground coming from west)\n",
    "#(v,0,0) azi=90 ele=0  (flying parallel to ground coming from south)\n",
    "#(0,v,0) azi=0 ele=0  (flying parallel to ground coming from east)\n"
   ]
  },
  {
   "cell_type": "code",
   "execution_count": 28,
   "id": "f9f8396f-d1d7-4048-ac8f-a7ef9c0fa2eb",
   "metadata": {},
   "outputs": [
    {
     "name": "stdout",
     "output_type": "stream",
     "text": [
      "(-90.0, 0.0, 2.0)\n",
      "(180.0, 0.0, 2.0)\n",
      "(90.0, 0.0, 2.0)\n",
      "(0.0, 0.0, 2.0)\n"
     ]
    }
   ],
   "source": [
    "print(cartesian_to_horizontal(-2, 0, 0))\n",
    "print(cartesian_to_horizontal(0, -2, 0))\n",
    "print(cartesian_to_horizontal(2, 0, 0))\n",
    "print(cartesian_to_horizontal(0, 2, 0))"
   ]
  },
  {
   "cell_type": "code",
   "execution_count": 29,
   "id": "44f8a362-ae3d-4d8b-9ee4-e1d395d5d9f1",
   "metadata": {},
   "outputs": [
    {
     "name": "stdout",
     "output_type": "stream",
     "text": [
      "(270.0, 0.0, 2.0)\n",
      "(180.0, 0.0, 2.0)\n",
      "(90.0, 0.0, 2.0)\n",
      "(0.0, 0.0, 2.0)\n"
     ]
    }
   ],
   "source": [
    "print(cartesian_to_horizontal_new(-2, 0, 0))\n",
    "print(cartesian_to_horizontal_new(0, -2, 0))\n",
    "print(cartesian_to_horizontal_new(2, 0, 0))\n",
    "print(cartesian_to_horizontal_new(0, 2, 0))"
   ]
  },
  {
   "cell_type": "code",
   "execution_count": 30,
   "id": "bdfe624f-19b9-4a08-8f5e-89b33ec03991",
   "metadata": {},
   "outputs": [
    {
     "name": "stdout",
     "output_type": "stream",
     "text": [
      "(90.0, 90.0, 1)\n",
      "(0.0, 90.0, 1)\n",
      "(-90.0, 90.0, 1)\n",
      "(180.0, 90.0, 1)\n"
     ]
    }
   ],
   "source": [
    "#print(spherical_to_horizontal(theta, phi, r))\n",
    "print(spherical_to_horizontal(0, 0, 1))\n",
    "print(spherical_to_horizontal(0, 90, 1))\n",
    "print(spherical_to_horizontal(0, 180, 1))\n",
    "print(spherical_to_horizontal(0, -90, 1))"
   ]
  },
  {
   "cell_type": "code",
   "execution_count": 31,
   "id": "6951baf0-e731-4888-9cf4-65c16d17f1f9",
   "metadata": {},
   "outputs": [
    {
     "name": "stdout",
     "output_type": "stream",
     "text": [
      "(270.0, -90.0, 1)\n",
      "(180.0, -90.0, 1)\n",
      "(90.0, -90.0, 1)\n",
      "(0.0, -90.0, 1)\n"
     ]
    }
   ],
   "source": [
    "#print(spherical_to_horizontal(theta, phi, r))\n",
    "print(spherical_to_horizontal_new(0, 0, 1))\n",
    "print(spherical_to_horizontal_new(0, 90, 1))\n",
    "print(spherical_to_horizontal_new(0, 180, 1))\n",
    "print(spherical_to_horizontal_new(0, 270, 1))"
   ]
  },
  {
   "cell_type": "code",
   "execution_count": 32,
   "id": "013a93dc-5e62-45cc-a570-f2b86baf42c3",
   "metadata": {},
   "outputs": [
    {
     "name": "stdout",
     "output_type": "stream",
     "text": [
      "(-90.0, 26.56505117707799, 2.23606797749979)\n",
      "(180.0, 26.56505117707799, 2.23606797749979)\n",
      "(90.0, -26.56505117707799, 2.23606797749979)\n",
      "(0.0, -26.56505117707799, 2.23606797749979)\n",
      "(90.0, 90.0, 2.0)\n",
      "(90.0, -90.0, 2.0)\n"
     ]
    }
   ],
   "source": [
    "print(cartesian_to_horizontal(-2, 0, 1))\n",
    "print(cartesian_to_horizontal(0, -2, 1))\n",
    "print(cartesian_to_horizontal(2, 0, -1))\n",
    "print(cartesian_to_horizontal(0, 2, -1))\n",
    "\n",
    "print(cartesian_to_horizontal(0, 0, 2))\n",
    "print(cartesian_to_horizontal(0, 0, -2))"
   ]
  },
  {
   "cell_type": "code",
   "execution_count": 33,
   "id": "03e96e0d-0365-4a33-bb80-80d36ddc1984",
   "metadata": {},
   "outputs": [
    {
     "name": "stdout",
     "output_type": "stream",
     "text": [
      "(270.0, 26.56505117707799, 2.23606797749979)\n",
      "(180.0, 26.56505117707799, 2.23606797749979)\n",
      "(90.0, -26.56505117707799, 2.23606797749979)\n",
      "(0.0, -26.56505117707799, 2.23606797749979)\n",
      "(90.0, 90.0, 2.0)\n",
      "(90.0, -90.0, 2.0)\n"
     ]
    }
   ],
   "source": [
    "print(cartesian_to_horizontal_new(-2, 0, 1))\n",
    "print(cartesian_to_horizontal_new(0, -2, 1))\n",
    "print(cartesian_to_horizontal_new(2, 0, -1))\n",
    "print(cartesian_to_horizontal_new(0, 2, -1))\n",
    "\n",
    "print(cartesian_to_horizontal_new(0, 0, 2))\n",
    "print(cartesian_to_horizontal_new(0, 0, -2))"
   ]
  },
  {
   "cell_type": "code",
   "execution_count": null,
   "id": "1ab39297-e100-4589-a3ed-e9f991cfb1c8",
   "metadata": {},
   "outputs": [],
   "source": []
  },
  {
   "cell_type": "code",
   "execution_count": null,
   "id": "dfe9b113-9485-46da-9b24-beda7eaa8779",
   "metadata": {},
   "outputs": [],
   "source": []
  },
  {
   "cell_type": "code",
   "execution_count": 28,
   "id": "6f35f416-cce2-4cc3-bade-1cf5e9013b9f",
   "metadata": {},
   "outputs": [
    {
     "name": "stdout",
     "output_type": "stream",
     "text": [
      "(90.0, 90.0, 1)\n",
      "(0.0, 90.0, 1)\n",
      "(-90.0, 90.0, 1)\n",
      "(-180.0, 90.0, 1)\n"
     ]
    }
   ],
   "source": [
    "#spherical_to_horizontal(theta, phi, r)\n",
    "#return 90.0 - phi, 90.0 - theta, r\n",
    "print(spherical_to_horizontal(0, 0, 1))\n",
    "print(spherical_to_horizontal(0, 90, 1))\n",
    "print(spherical_to_horizontal(0, 180, 1))\n",
    "print(spherical_to_horizontal(0, 270, 1))"
   ]
  },
  {
   "cell_type": "code",
   "execution_count": 29,
   "id": "2b2a8259-fd95-44d7-8b9d-9d6be4065b1b",
   "metadata": {},
   "outputs": [
    {
     "name": "stdout",
     "output_type": "stream",
     "text": [
      "(270.0, -90.0, 1)\n",
      "(180.0, -90.0, 1)\n",
      "(90.0, -90.0, 1)\n",
      "(0.0, -90.0, 1)\n"
     ]
    }
   ],
   "source": [
    "print(spherical_to_horizontal_new(0, 0, 1))\n",
    "print(spherical_to_horizontal_new(0, 90, 1))\n",
    "print(spherical_to_horizontal_new(0, 180, 1))\n",
    "print(spherical_to_horizontal_new(0, 270, 1))"
   ]
  },
  {
   "cell_type": "code",
   "execution_count": null,
   "id": "857ee068-83da-4e55-b152-b929b7d0512e",
   "metadata": {},
   "outputs": [],
   "source": []
  },
  {
   "cell_type": "code",
   "execution_count": 35,
   "id": "e9cae81a-68b8-46ba-858c-a72e2e0b4c78",
   "metadata": {},
   "outputs": [
    {
     "name": "stdout",
     "output_type": "stream",
     "text": [
      "(-2.0, -2.4492935982947064e-16, 1.2246467991473532e-16)\n",
      "(-2.0, 2.4492935982947064e-16, 1.2246467991473532e-16)\n"
     ]
    }
   ],
   "source": [
    "print(horizontal_to_cartesian(270., 0, 2))\n",
    "print(horizontal_to_cartesian_new(270., 0, 2))"
   ]
  },
  {
   "cell_type": "code",
   "execution_count": null,
   "id": "f20ac8b5-d29d-447a-9be0-645d177b5f7f",
   "metadata": {},
   "outputs": [],
   "source": []
  },
  {
   "cell_type": "code",
   "execution_count": null,
   "id": "b5389f11-510b-4d1e-b451-b6f540cec51e",
   "metadata": {},
   "outputs": [],
   "source": []
  },
  {
   "cell_type": "code",
   "execution_count": 32,
   "id": "82a69a33-373b-49af-b313-e3a6c8921aa9",
   "metadata": {},
   "outputs": [
    {
     "name": "stdout",
     "output_type": "stream",
     "text": [
      "(90.0, 0, 2.0)\n",
      "(90.0, 180.0, 2.0)\n",
      "(90.0, 90.0, 2.0)\n",
      "(90.0, -90.0, 2.0)\n",
      "(90.0, 180.0, 2.0)\n",
      "(90.0, 0.0, 2.0)\n",
      "(90.0, 270.0, 2.0)\n",
      "(90.0, 90.0, 2.0)\n"
     ]
    }
   ],
   "source": [
    "print(cartesian_to_spherical_new(-2,0,0))\n",
    "print(cartesian_to_spherical(-2,0,0))\n",
    "print(cartesian_to_spherical_new(0,-2,0))\n",
    "print(cartesian_to_spherical(0,-2,0))\n",
    "print(cartesian_to_spherical_new(2,0,0))\n",
    "print(cartesian_to_spherical(2,0,0))\n",
    "print(cartesian_to_spherical_new(0,2,0))\n",
    "print(cartesian_to_spherical(0,2,0))"
   ]
  },
  {
   "cell_type": "code",
   "execution_count": 33,
   "id": "d2750018-3b9f-4a6b-bf9e-45c8df6b69ed",
   "metadata": {},
   "outputs": [
    {
     "name": "stdout",
     "output_type": "stream",
     "text": [
      "(45.0, 90.0, 0.7071067811865476)\n",
      "(135.0, -90.0, 0.7071067811865476)\n"
     ]
    }
   ],
   "source": [
    "print(cartesian_to_spherical_new(0,-0.5,-0.5))\n",
    "print(cartesian_to_spherical(0,-0.5,-0.5))"
   ]
  },
  {
   "cell_type": "code",
   "execution_count": 34,
   "id": "f1bc000d-f033-4bd6-9dc2-a18733d28388",
   "metadata": {},
   "outputs": [
    {
     "name": "stdout",
     "output_type": "stream",
     "text": [
      "(0.0, 180.0, 1.0)\n",
      "(180.0, 0.0, 1.0)\n"
     ]
    }
   ],
   "source": [
    "print(cartesian_to_spherical_new(0,0,-1))\n",
    "print(cartesian_to_spherical(0,0,-1))"
   ]
  },
  {
   "cell_type": "code",
   "execution_count": 35,
   "id": "9ce69f59-dd07-43db-a295-7a03b43e792a",
   "metadata": {},
   "outputs": [
    {
     "name": "stdout",
     "output_type": "stream",
     "text": [
      "(63.43494882292201, 0, 2.23606797749979)\n",
      "(116.56505117707799, 180.0, 2.23606797749979)\n",
      "(63.43494882292201, 90.0, 2.23606797749979)\n",
      "(116.56505117707799, -90.0, 2.23606797749979)\n",
      "(63.43494882292201, 180.0, 2.23606797749979)\n",
      "(116.56505117707799, 0.0, 2.23606797749979)\n",
      "(63.43494882292201, 270.0, 2.23606797749979)\n",
      "(116.56505117707799, 90.0, 2.23606797749979)\n"
     ]
    }
   ],
   "source": [
    "print(cartesian_to_spherical_new(-2,0,-1))\n",
    "print(cartesian_to_spherical(-2,0,-1))\n",
    "print(cartesian_to_spherical_new(0,-2,-1))\n",
    "print(cartesian_to_spherical(0,-2,-1))\n",
    "print(cartesian_to_spherical_new(2,0,-1))\n",
    "print(cartesian_to_spherical(2,0,-1))\n",
    "print(cartesian_to_spherical_new(0,2,-1))\n",
    "print(cartesian_to_spherical(0,2,-1))"
   ]
  },
  {
   "cell_type": "code",
   "execution_count": 36,
   "id": "05cb8eab-aac1-450e-9369-9bd0bd549a66",
   "metadata": {},
   "outputs": [
    {
     "name": "stdout",
     "output_type": "stream",
     "text": [
      "(180.0, 180.0, 1.0)\n",
      "(0.0, 0.0, 1.0)\n"
     ]
    }
   ],
   "source": [
    "print(cartesian_to_spherical_new(0,0,1))\n",
    "print(cartesian_to_spherical(0,0,1))"
   ]
  },
  {
   "cell_type": "code",
   "execution_count": 37,
   "id": "592b166f-7ed8-4285-b6d6-62aa6a7149b6",
   "metadata": {},
   "outputs": [
    {
     "name": "stdout",
     "output_type": "stream",
     "text": [
      "(180.0, 180.0, 0.0)\n",
      "(0.0, 0.0, 0.0)\n"
     ]
    }
   ],
   "source": [
    "print(cartesian_to_spherical_new(0,0,0))\n",
    "print(cartesian_to_spherical(0,0,0))"
   ]
  },
  {
   "cell_type": "code",
   "execution_count": 7,
   "id": "77c615db-e396-4206-aca3-1143bee09bc9",
   "metadata": {},
   "outputs": [],
   "source": []
  },
  {
   "cell_type": "code",
   "execution_count": 8,
   "id": "97faff56-79de-4f5a-a5af-13b0d55fccf3",
   "metadata": {},
   "outputs": [],
   "source": []
  },
  {
   "cell_type": "code",
   "execution_count": 9,
   "id": "a9eff87c-fea0-4088-a30f-4ced4c6c3b1a",
   "metadata": {},
   "outputs": [
    {
     "data": {
      "text/plain": [
       "(-1.0, 1.2246467991473532e-16, 6.123233995736766e-17)"
      ]
     },
     "execution_count": 9,
     "metadata": {},
     "output_type": "execute_result"
    }
   ],
   "source": [
    "spherical_to_cartesian_new(90.0, 0, 1.0)"
   ]
  },
  {
   "cell_type": "code",
   "execution_count": 10,
   "id": "3972c112-efd0-40ed-995c-1ec7242364ea",
   "metadata": {},
   "outputs": [
    {
     "data": {
      "text/plain": [
       "(-1.0, 1.2246467991473532e-16, 6.123233995736766e-17)"
      ]
     },
     "execution_count": 10,
     "metadata": {},
     "output_type": "execute_result"
    }
   ],
   "source": [
    "spherical_to_cartesian(90.0, 180.0, 1.0)"
   ]
  },
  {
   "cell_type": "code",
   "execution_count": 11,
   "id": "408b02cc-29a1-4bd2-90bd-4dc3185ccfee",
   "metadata": {},
   "outputs": [
    {
     "name": "stdout",
     "output_type": "stream",
     "text": [
      "(-2.0, 2.4492935982947064e-16, 1.2246467991473532e-16)\n",
      "(-2.0, 2.4492935982947064e-16, 1.2246467991473532e-16)\n",
      "(-3.6739403974420594e-16, -2.0, 1.2246467991473532e-16)\n",
      "(1.2246467991473532e-16, -2.0, 1.2246467991473532e-16)\n",
      "(2.0, -4.898587196589413e-16, 1.2246467991473532e-16)\n",
      "(2.0, 0.0, 1.2246467991473532e-16)\n",
      "(6.123233995736766e-16, 2.0, 1.2246467991473532e-16)\n",
      "(1.2246467991473532e-16, 2.0, 1.2246467991473532e-16)\n"
     ]
    }
   ],
   "source": [
    "print(spherical_to_cartesian_new(90.0, 0, 2.0))\n",
    "print(spherical_to_cartesian(90.0, 180.0, 2.0))\n",
    "print(spherical_to_cartesian_new(90.0, 90.0, 2.0))\n",
    "print(spherical_to_cartesian(90.0, -90.0, 2.0))\n",
    "print(spherical_to_cartesian_new(90.0, 180.0, 2.0))\n",
    "print(spherical_to_cartesian(90.0, 0.0, 2.0))\n",
    "print(spherical_to_cartesian_new(90.0, 270.0, 2.0))\n",
    "print(spherical_to_cartesian(90.0, 90.0, 2.0))"
   ]
  },
  {
   "cell_type": "code",
   "execution_count": 12,
   "id": "0e3d1e76-d03f-4735-8af9-ba7871e3feef",
   "metadata": {},
   "outputs": [
    {
     "name": "stdout",
     "output_type": "stream",
     "text": [
      "(-9.184850993605151e-17, -0.5000000000000001, -0.5)\n",
      "(3.0616169978683836e-17, -0.5000000000000001, -0.5)\n"
     ]
    }
   ],
   "source": [
    "print(spherical_to_cartesian_new(45.0, 90.0, 0.7071067811865476))\n",
    "print(spherical_to_cartesian(135.0, -90.0, 0.7071067811865476))"
   ]
  },
  {
   "cell_type": "code",
   "execution_count": 13,
   "id": "c10e7216-59d9-4a1d-b6b0-8d4e4b4e7a0c",
   "metadata": {},
   "outputs": [
    {
     "name": "stdout",
     "output_type": "stream",
     "text": [
      "(-2.0, 2.4492935982947064e-16, -1.0)\n",
      "(-2.0, 2.4492935982947064e-16, -1.0)\n",
      "(-3.6739403974420594e-16, -2.0, -1.0)\n",
      "(1.2246467991473532e-16, -2.0, -1.0)\n",
      "(2.0, -4.898587196589413e-16, -1.0)\n",
      "(2.0, 0.0, -1.0)\n",
      "(6.123233995736766e-16, 2.0, -1.0)\n",
      "(1.2246467991473532e-16, 2.0, -1.0)\n"
     ]
    }
   ],
   "source": [
    "print(spherical_to_cartesian_new(63.43494882292201, 0, 2.23606797749979))\n",
    "print(spherical_to_cartesian(116.56505117707799, 180.0, 2.23606797749979))\n",
    "print(spherical_to_cartesian_new(63.43494882292201, 90.0, 2.23606797749979))\n",
    "print(spherical_to_cartesian(116.56505117707799, -90.0, 2.23606797749979))\n",
    "print(spherical_to_cartesian_new(63.43494882292201, 180.0, 2.23606797749979))\n",
    "print(spherical_to_cartesian(116.56505117707799, 0.0, 2.23606797749979))\n",
    "print(spherical_to_cartesian_new(63.43494882292201, 270.0, 2.23606797749979))\n",
    "print(spherical_to_cartesian(116.56505117707799, 90.0, 2.23606797749979))"
   ]
  },
  {
   "cell_type": "code",
   "execution_count": null,
   "id": "7c308f20-4935-49dd-a8ae-203e2718fc05",
   "metadata": {},
   "outputs": [],
   "source": []
  }
 ],
 "metadata": {
  "kernelspec": {
   "display_name": "Python 3 (ipykernel)",
   "language": "python",
   "name": "python3"
  },
  "language_info": {
   "codemirror_mode": {
    "name": "ipython",
    "version": 3
   },
   "file_extension": ".py",
   "mimetype": "text/x-python",
   "name": "python",
   "nbconvert_exporter": "python",
   "pygments_lexer": "ipython3",
   "version": "3.8.10"
  }
 },
 "nbformat": 4,
 "nbformat_minor": 5
}
