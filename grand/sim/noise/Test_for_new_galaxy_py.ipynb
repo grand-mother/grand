{
 "cells": [
  {
   "cell_type": "code",
   "execution_count": 34,
   "id": "ce21eeda-1031-4769-9cda-b6df12b3c950",
   "metadata": {},
   "outputs": [],
   "source": [
    "import h5py\n",
    "import numpy as np\n",
    "from matplotlib import pyplot as plt\n",
    "def interpol_at_new_x(a_x, a_y, new_x):\n",
    "    \"\"\"\n",
    "    Interpolation of discreet function F defined by set of point F(a_x)=a_y for new_x value\n",
    "    and set to zero outside interval definition a_x\n",
    "\n",
    "    :param a_x (float, (N)): F(a_x) = a_y, N size of a_x\n",
    "    :param a_y (float, (N)): F(a_x) = a_y\n",
    "    :param new_x (float, (M)): new value of x\n",
    "\n",
    "    :return: F(new_x) (float, (M)): interpolation of F at new_x\n",
    "    \"\"\"\n",
    "    from scipy import interpolate\n",
    "    assert a_x.shape[0] > 0\n",
    "    func_interpol = interpolate.interp1d(\n",
    "        a_x, a_y, \"cubic\", bounds_error=False, fill_value=(0.0, 0.0)\n",
    "    )\n",
    "    return func_interpol(new_x)\n",
    "\n",
    "lst=3\n",
    "gala_file = \"/home/grand/data/noise/30_250galactic.mat\"\n",
    "gala_file2 = '/home/grand/data/noise/Vocmax_30-250MHz_uVperMHz_hfss.npy'\n",
    "gala_show = h5py.File(gala_file, \"r\")\n",
    "gala_psd_dbm = np.transpose(gala_show[\"psd_narrow_huatu\"])\n",
    "gala_power_dbm = np.transpose(gala_show[\"p_narrow_huatu\"])  # SL, dbm per MHz, P=mean(V*V)/imp with imp=100 ohms\n",
    "#gala_voltage = np.transpose(gala_show[\"v_amplitude\"])  # SL, microV per MHz, seems to be Vmax=sqrt(2*mean(V*V)), not std(V)=sqrt(mean(V*V))\n",
    "gala_voltage = np.load(gala_file2)  # SL, microV per MHz, seems to be Vmax=sqrt(2*mean(V*V)), not std(V)=sqrt(mean(V*V))\n",
    "gala_voltage = np.transpose(gala_voltage, (0, 2, 1))\n",
    "# gala_power_mag = np.transpose(gala_show[\"p_narrow\"])\n",
    "gala_freq = gala_show[\"freq_all\"]\n",
    "v_amplitude_infile = gala_voltage[:, :, lst - 1]"
   ]
  },
  {
   "cell_type": "code",
   "execution_count": 35,
   "id": "82e8d7e0-764f-47ef-a5c3-2c6dedc19fdb",
   "metadata": {},
   "outputs": [
    {
     "data": {
      "text/plain": [
       "<HDF5 dataset \"freq_all\": shape (221, 1), type \"<f8\">"
      ]
     },
     "execution_count": 35,
     "metadata": {},
     "output_type": "execute_result"
    }
   ],
   "source": [
    "gala_freq"
   ]
  },
  {
   "cell_type": "code",
   "execution_count": 36,
   "id": "6117411d-6b90-45da-a8f8-5f02488b8ac3",
   "metadata": {},
   "outputs": [
    {
     "data": {
      "text/plain": [
       "221"
      ]
     },
     "execution_count": 36,
     "metadata": {},
     "output_type": "execute_result"
    }
   ],
   "source": [
    "len(gala_freq[:, 0])"
   ]
  },
  {
   "cell_type": "code",
   "execution_count": 37,
   "id": "5528cd40-0d75-4120-b3ef-a96a44c61ef1",
   "metadata": {},
   "outputs": [],
   "source": [
    "#gala_voltage.shape"
   ]
  },
  {
   "cell_type": "code",
   "execution_count": 38,
   "id": "fac3e14e-bfbc-437d-af23-c0c0dea80b15",
   "metadata": {},
   "outputs": [
    {
     "data": {
      "text/plain": [
       "216"
      ]
     },
     "execution_count": 38,
     "metadata": {},
     "output_type": "execute_result"
    }
   ],
   "source": [
    "len(v_amplitude_infile[:, 0])"
   ]
  },
  {
   "cell_type": "code",
   "execution_count": 6,
   "id": "d9c4152b-df3c-4435-9378-8cc7c7192794",
   "metadata": {},
   "outputs": [],
   "source": [
    "#gala_power_dbm.shape"
   ]
  },
  {
   "cell_type": "code",
   "execution_count": 14,
   "id": "e9ed7793-f841-4d30-b0f6-ed17287fb642",
   "metadata": {},
   "outputs": [],
   "source": [
    "\"\"\"\n",
    "Simulation of galaxy emission in radio frequency\n",
    "\"\"\"\n",
    "\n",
    "import h5py\n",
    "import numpy as np\n",
    "from matplotlib import pyplot as plt\n",
    "from grand import grand_add_path_data\n",
    "\n",
    "def interpol_at_new_x(a_x, a_y, new_x):\n",
    "    \"\"\"\n",
    "    Interpolation of discreet function F defined by set of point F(a_x)=a_y for new_x value\n",
    "    and set to zero outside interval definition a_x\n",
    "\n",
    "    :param a_x (float, (N)): F(a_x) = a_y, N size of a_x\n",
    "    :param a_y (float, (N)): F(a_x) = a_y\n",
    "    :param new_x (float, (M)): new value of x\n",
    "\n",
    "    :return: F(new_x) (float, (M)): interpolation of F at new_x\n",
    "    \"\"\"\n",
    "    from scipy import interpolate\n",
    "    assert a_x.shape[0] > 0\n",
    "    func_interpol = interpolate.interp1d(\n",
    "        a_x, a_y, \"cubic\", bounds_error=False, fill_value=(0.0, 0.0)\n",
    "    )\n",
    "    return func_interpol(new_x)\n",
    "\n",
    "def galactic_noise(f_lst, size_out, freqs_mhz, nb_ant, seed=None, du_type='GP300'):\n",
    "    \"\"\"\n",
    "    This program is used as a subroutine to complete the calculation and\n",
    "    expansion of galactic noise\n",
    "\n",
    "    ..Authors:\n",
    "      PengFei and Xidian group\n",
    "      Modified by SN including different antenna models for leff\n",
    "    :param f_lst: select the galactic noise LST at the LST moment\n",
    "    :    type f_lst: float\n",
    "    :param size_out: is the extended length\n",
    "    :    type size_out: int\n",
    "    :param freqs_mhz: array of output frequencies\n",
    "    :    type freqs_mhz: float (nb freq,)\n",
    "    :param nb_ant: number of antennas\n",
    "    :    type nb_ant: int\n",
    "    :param show_flag: print figure\n",
    "    :    type show_flag: boll\n",
    "    :param seed: if None, values are randomly generated as expected. \n",
    "                 if number, same set of randomly generated output. This is useful for testing.\n",
    "    : du_type: Calculate the galactic noise for different antenna model simulations.\n",
    "                 'GP300' (default) uses hfss simulations for leff\n",
    "                 'GP300_nec' uses nec simulations for leff\n",
    "                 'Gp300_mat' uses matlab simulations fro leff\n",
    "    :return: FFT of galactic noise for all DU and components\n",
    "    :rtype: float(nb du, 3, nb freq)\n",
    "    \"\"\"\n",
    "    # TODO: why lst is an integer ?\n",
    "    lst = int(f_lst)\n",
    "    \n",
    "    if du_type == 'GP300':\n",
    "        gala_file = grand_add_path_data(\"noise/Vocmax_30-250MHz_uVperMHz_hfss.npy\")\n",
    "        gala_file1 = grand_add_path_data(\"noise/Pocmax_30-250_Watt_per_MHz_hfss.npy\")\n",
    "        gala_file2 = grand_add_path_data(\"noise/Pocmax_30-250_dBm_per_MHz_hfss.npy\")\n",
    "        gala_file3 = grand_add_path_data(\"noise/30_250galactic.mat\")\n",
    "        gala_show = h5py.File(gala_file3, \"r\")\n",
    "        gala_voltage = np.load(gala_file)\n",
    "        gala_voltage = np.transpose(gala_voltage, (0, 2, 1)) #micro Volts per MHz (max)\n",
    "        gala_power_watt = np.load(gala_file1) \n",
    "        gala_power_watt = np.transpose(gala_power_watt, (0, 2, 1)) #watt per MHz\n",
    "        gala_power_dbm = np.load(gala_file2)\n",
    "        gala_power_dbm = np.transpose(gala_power_dbm, (0, 2, 1)) # dBm per MHz\n",
    "        gala_freq = gala_show[\"freq_all\"]\n",
    "\n",
    "        \"\"\"f_start = 30\n",
    "        f_end = 250\n",
    "        # TODO: 221 is the number of frequency ? why ? and comment to explain\n",
    "        nb_freq = 221\n",
    "        v_complex_double = np.zeros((nb_ant, size_out, 3), dtype=complex)\n",
    "        galactic_v_time = np.zeros((nb_ant, size_out, 3), dtype=float)\n",
    "        galactic_v_m_single = np.zeros((nb_ant, int(size_out / 2) + 1, 3), dtype=float)\n",
    "        galactic_v_p_single = np.zeros((nb_ant, int(size_out / 2) + 1, 3), dtype=float)\"\"\"\n",
    "        v_amplitude_infile = gala_voltage[:, :, lst - 1]\n",
    "    \n",
    "    elif du_type == 'GP300_nec':\n",
    "        gala_file = grand_add_path_data(\"noise/Vocmax_30-250MHz_uVperMHz_nec.npy\")\n",
    "        gala_file1 = grand_add_path_data(\"noise/Pocmax_30-250_Watt_per_MHz_nec.npy\")\n",
    "        gala_file2 = grand_add_path_data(\"noise/Pocmax_30-250_dBm_per_MHz_nec.npy\")\n",
    "        gala_file3 = grand_add_path_data(\"noise/30_250galactic.mat\")\n",
    "        gala_show = h5py.File(gala_file3, \"r\")\n",
    "        gala_voltage = np.load(gala_file)\n",
    "        gala_voltage = np.transpose(gala_voltage, (0, 2, 1)) #micro Volts per MHz (max)\n",
    "        gala_power_watt = np.load(gala_file1) \n",
    "        gala_power_watt = np.transpose(gala_power_watt, (0, 2, 1)) #watt per MHz\n",
    "        gala_power_dbm = np.load(gala_file2)\n",
    "        gala_power_dbm = np.transpose(gala_power_dbm, (0, 2, 1)) # dBm per MHz\n",
    "        gala_freq = gala_show[\"freq_all\"]\n",
    "        \"\"\"f_start = 30\n",
    "        f_end = 250\n",
    "        # TODO: 221 is the number of frequency ? why ? and comment to explain\n",
    "        nb_freq = 221\n",
    "        v_complex_double = np.zeros((nb_ant, size_out, 3), dtype=complex)\n",
    "        galactic_v_time = np.zeros((nb_ant, size_out, 3), dtype=float)\n",
    "        galactic_v_m_single = np.zeros((nb_ant, int(size_out / 2) + 1, 3), dtype=float)\n",
    "        galactic_v_p_single = np.zeros((nb_ant, int(size_out / 2) + 1, 3), dtype=float)\"\"\"\n",
    "        v_amplitude_infile = gala_voltage[:, :, lst - 1]\n",
    "        \n",
    "    elif du_type == 'GP300_mat':\n",
    "        gala_file = grand_add_path_data(\"noise/Vocmax_30-250MHz_uVperMHz_mat.npy\")\n",
    "        gala_file1 = grand_add_path_data(\"noise/Pocmax_30-250_Watt_per_MHz_mat.npy\")\n",
    "        gala_file2 = grand_add_path_data(\"noise/Pocmax_30-250_dBm_per_MHz_mat.npy\")\n",
    "        gala_file3 = grand_add_path_data(\"noise/30_250galactic.mat\")\n",
    "        gala_show = h5py.File(gala_file3, \"r\")\n",
    "        gala_voltage = np.load(gala_file)\n",
    "        gala_voltage = np.transpose(gala_voltage, (0, 2, 1)) #micro Volts per MHz (max)\n",
    "        gala_power_watt = np.load(gala_file1) \n",
    "        gala_power_watt = np.transpose(gala_power_watt, (0, 2, 1)) #watt per MHz\n",
    "        gala_power_dbm = np.load(gala_file2)\n",
    "        gala_power_dbm = np.transpose(gala_power_dbm, (0, 2, 1)) # dBm per MHz\n",
    "        gala_freq = gala_show[\"freq_all\"]\n",
    "        \"\"\"f_start = 30\n",
    "        f_end = 250\n",
    "        # TODO: 221 is the number of frequency ? why ? and comment to explain\n",
    "        nb_freq = 221\n",
    "        v_complex_double = np.zeros((nb_ant, size_out, 3), dtype=complex)\n",
    "        galactic_v_time = np.zeros((nb_ant, size_out, 3), dtype=float)\n",
    "        galactic_v_m_single = np.zeros((nb_ant, int(size_out / 2) + 1, 3), dtype=float)\n",
    "        galactic_v_p_single = np.zeros((nb_ant, int(size_out / 2) + 1, 3), dtype=float)\"\"\"\n",
    "        v_amplitude_infile = gala_voltage[:, :, lst - 1]\n",
    "\n",
    "    # SL\n",
    "    nb_freq = len(freqs_mhz)\n",
    "    freq_res = freqs_mhz[1] - freqs_mhz[0]\n",
    "    v_amplitude_infile = v_amplitude_infile * np.sqrt(freq_res)\n",
    "    v_amplitude = np.zeros((nb_freq, 3))\n",
    "    v_amplitude[:, 0] = interpol_at_new_x(gala_freq[:, 0], v_amplitude_infile[:, 0], freqs_mhz)\n",
    "    v_amplitude[:, 1] = interpol_at_new_x(gala_freq[:, 0], v_amplitude_infile[:, 1], freqs_mhz)\n",
    "    v_amplitude[:, 2] = interpol_at_new_x(gala_freq[:, 0], v_amplitude_infile[:, 2], freqs_mhz)\n",
    "\n",
    "    '''\n",
    "    a_nor = np.zeros((nb_ant, nb_freq, 3), dtype=float)\n",
    "    phase = np.zeros((nb_ant, nb_freq, 3), dtype=float)\n",
    "    v_complex = np.zeros((nb_ant, 3, nb_freq), dtype=complex)\n",
    "    for l_ant in range(nb_ant):\n",
    "        for l_fq in range(nb_freq):\n",
    "            for l_axis in range(3):\n",
    "                # Generates a normal distribution with 0 as the mean and\n",
    "                # v_amplitude[l_fq, l_axis] as the standard deviation\n",
    "                a_nor[l_ant, l_fq, l_axis] = np.random.normal(\n",
    "                    loc=0, scale=v_amplitude[l_fq, l_axis]\n",
    "                )\n",
    "                # phase of random Gauss noise\n",
    "                phase[l_ant, l_fq, l_axis] = 2 * np.pi * np.random.random_sample()\n",
    "                # SL *size_out is because default scipy fft is normalised backward, *1/2 is because mean(cos(x)*cos(x)))\n",
    "                v_complex[l_ant, l_axis, l_fq] = abs(a_nor[l_ant, l_fq, l_axis] * size_out / 2)\n",
    "                v_complex[l_ant, l_axis, l_fq] *= np.exp(1j * phase[l_ant, l_fq, l_axis])\n",
    "    '''\n",
    "\n",
    "    # RK: above loop is replaced by lines below. Also np.random.default_rng(seed) is used instead of np.random.seed().\n",
    "    #     if seed is a fixed number, same set of randomly generated number is produced. This is useful for testing.\n",
    "    v_amplitude = v_amplitude.T\n",
    "    rng   = np.random.default_rng(seed)     \n",
    "    amp   = rng.normal(loc=0, scale=v_amplitude[np.newaxis,...], size=(nb_ant, 3, nb_freq))\n",
    "    phase = 2 * np.pi * rng.random(size=(nb_ant, 3, nb_freq))\n",
    "    v_complex = np.abs(amp * size_out / 2) * np.exp(1j * phase)\n",
    "\n",
    "    return v_complex"
   ]
  },
  {
   "cell_type": "code",
   "execution_count": 6,
   "id": "97d7bf38-3984-4dd1-8d5e-344e82e44745",
   "metadata": {},
   "outputs": [],
   "source": [
    "seed=0\n",
    "nb_ant = 300\n",
    "size_out = 20\n",
    "freqs_mhz = np.arange(30, 251, 1)\n",
    "lst=18"
   ]
  },
  {
   "cell_type": "code",
   "execution_count": 7,
   "id": "e33111c4-5d00-4e4b-9c5c-f40485b7e673",
   "metadata": {},
   "outputs": [
    {
     "data": {
      "text/plain": [
       "array([[[-3.12530053e+00+2.05274347e+00j,\n",
       "          3.55623994e+00+1.62149259e+00j,\n",
       "          4.19390880e+00+1.83519989e+01j, ...,\n",
       "          1.46539732e+00+1.19925282e+01j,\n",
       "         -3.55640550e+01+2.24558096e+01j,\n",
       "         -5.77326941e-01+8.72690571e-01j],\n",
       "        [ 6.71111716e+01-1.59544946e+01j,\n",
       "         -1.19110551e+01+1.87520163e+01j,\n",
       "         -1.91588388e+01+1.31254822e+01j, ...,\n",
       "         -3.48623194e-02+1.07105368e+01j,\n",
       "          4.55955491e+00+1.38472424e+01j,\n",
       "         -1.40874984e+01+1.46454527e+01j],\n",
       "        [ 2.71679927e+01+1.97407330e+01j,\n",
       "          5.70902500e+01+6.59076347e+01j,\n",
       "          4.59040972e+01+1.09337136e+01j, ...,\n",
       "          4.34029895e+00-1.45714232e+01j,\n",
       "          1.95397942e+01-1.72328132e-01j,\n",
       "          5.49045445e+01-2.38590303e+01j]],\n",
       "\n",
       "       [[-4.45651713e+00-4.99468879e+01j,\n",
       "          1.31368901e+01+1.79637609e+01j,\n",
       "          3.13384344e+01+1.01023119e+01j, ...,\n",
       "         -5.84786856e+00-4.77007262e+00j,\n",
       "          1.83422457e+00-2.65633261e+00j,\n",
       "          2.46693285e+00+1.57777974e+00j],\n",
       "        [ 1.14860417e+01-1.98055630e+01j,\n",
       "         -1.00069183e+01-1.04281009e+01j,\n",
       "         -6.19428715e+00-5.92011106e+00j, ...,\n",
       "         -4.18718660e+00+1.80286504e+01j,\n",
       "          3.50503242e+00-2.41624036e+00j,\n",
       "          5.19996226e+00+3.92458908e+00j],\n",
       "        [ 1.10402817e+01-5.97208545e+01j,\n",
       "         -2.39539529e+00+1.36467422e+01j,\n",
       "         -1.20126848e+01+2.05431299e+01j, ...,\n",
       "         -4.18348241e+00+6.83418654e+00j,\n",
       "         -1.22595553e+00+9.43078955e+00j,\n",
       "          3.12056835e+01-3.70827013e+01j]],\n",
       "\n",
       "       [[ 2.58356401e+00+9.16674788e+00j,\n",
       "          9.50378975e-02+1.16875640e-01j,\n",
       "          2.20637352e+00+4.95839495e+01j, ...,\n",
       "         -1.04439506e+01-1.58950417e-01j,\n",
       "          1.22627306e+01-4.23443074e+00j,\n",
       "          1.34161042e+01-6.65183828e+00j],\n",
       "        [-3.42795168e-01-1.29557760e+01j,\n",
       "          2.44232234e+01-1.70531735e+01j,\n",
       "         -1.61062417e+01-4.54718578e+00j, ...,\n",
       "          5.46764669e+00-6.67350594e+00j,\n",
       "          9.07100501e+00+1.33025955e+01j,\n",
       "         -1.56945710e+01+2.13223939e+00j],\n",
       "        [-1.52928794e+01+7.49693920e+00j,\n",
       "         -4.93623755e+01+2.54892346e+01j,\n",
       "          2.83975501e+01+4.63903961e+00j, ...,\n",
       "          2.51965840e+01+4.16240255e+01j,\n",
       "         -1.17577513e+01-4.92812186e+00j,\n",
       "          2.38061581e+01+3.99350108e+01j]],\n",
       "\n",
       "       ...,\n",
       "\n",
       "       [[-3.93794582e+01+9.52668258e+00j,\n",
       "         -6.40283656e+00+3.81349474e+00j,\n",
       "         -4.22153949e+00+1.03334309e+01j, ...,\n",
       "          1.94915295e+00-1.95102015e+00j,\n",
       "         -6.31604897e+00+3.53584274e+00j,\n",
       "          2.16385748e+01+6.87488783e+00j],\n",
       "        [-4.30213440e+01+3.58283999e+00j,\n",
       "          1.17016976e+01+1.84068767e+01j,\n",
       "          3.92788293e-01-1.41991273e+00j, ...,\n",
       "          1.52986810e+00+3.00166819e-01j,\n",
       "         -1.20310651e+01+9.80455838e+00j,\n",
       "         -2.15204122e+01-2.66405036e+00j],\n",
       "        [-2.41672073e+01+1.62969907e+00j,\n",
       "         -1.16899845e+00-5.19555310e-01j,\n",
       "         -2.53211994e+01-8.57662205e+00j, ...,\n",
       "         -1.57821268e+01-1.77238740e+01j,\n",
       "         -9.46142751e+00-4.83766316e+00j,\n",
       "          1.80389426e+00-9.87196117e-01j]],\n",
       "\n",
       "       [[-2.52098884e+01-9.14475559e+00j,\n",
       "          5.13985146e+01-4.73671954e-03j,\n",
       "         -3.33617501e+00+9.34261117e-01j, ...,\n",
       "         -6.24569787e+00-1.10382224e+01j,\n",
       "         -4.43624833e+00-1.81371893e+01j,\n",
       "          2.34124409e+00+4.43445559e+00j],\n",
       "        [ 2.54275592e+01-1.29335422e+01j,\n",
       "         -6.40292633e+00+2.02619403e+01j,\n",
       "         -9.88077491e+00+2.84885647e+01j, ...,\n",
       "         -1.15330037e+01-2.27527635e+00j,\n",
       "          8.60502138e+00+6.70900235e+00j,\n",
       "          2.30059641e+01+7.86212611e+00j],\n",
       "        [-2.87992969e+01+1.22026343e+01j,\n",
       "         -3.22267126e+01-1.48619917e+01j,\n",
       "          3.40805940e+01-3.20644456e+01j, ...,\n",
       "          1.06402155e+01-1.15935186e+01j,\n",
       "         -1.22331358e+01+4.92803016e+00j,\n",
       "          1.14824820e+00-2.71642012e+01j]],\n",
       "\n",
       "       [[ 4.79091474e+00-1.23286621e+01j,\n",
       "         -2.91803928e+01+1.15181509e+01j,\n",
       "         -2.97563807e+00+1.10574064e+01j, ...,\n",
       "          1.53650910e+00-7.09104206e+00j,\n",
       "          5.70227650e+00+3.64659679e+00j,\n",
       "          2.38057674e-01-1.25035423e+01j],\n",
       "        [-4.42635748e+01+4.81803342e+01j,\n",
       "         -4.90979896e+01-3.86817155e+01j,\n",
       "         -7.78117609e+00+4.59950426e+01j, ...,\n",
       "          2.03900958e+01+1.54105138e+01j,\n",
       "         -2.17923430e+00-6.63054469e+00j,\n",
       "         -6.20196978e+00+5.23277239e+00j],\n",
       "        [ 4.57855885e+01-5.01348278e-01j,\n",
       "          6.40891432e+00-2.40486813e+00j,\n",
       "          2.81473313e+01+2.98920849e+01j, ...,\n",
       "          3.50997461e+00+7.55597569e+00j,\n",
       "         -2.35863808e+01+3.19795116e+01j,\n",
       "         -2.60600512e+01+4.72810670e+00j]]])"
      ]
     },
     "execution_count": 7,
     "metadata": {},
     "output_type": "execute_result"
    }
   ],
   "source": [
    "galactic_noise(lst, size_out, freqs_mhz, nb_ant, seed=0, du_type='GP300_nec')"
   ]
  },
  {
   "cell_type": "code",
   "execution_count": 10,
   "id": "506d460e-d0af-461f-a28e-76459b5d5197",
   "metadata": {},
   "outputs": [],
   "source": [
    "GN_nec=galactic_noise(lst, size_out, freqs_mhz, nb_ant, seed=0, du_type='GP300_nec')"
   ]
  },
  {
   "cell_type": "code",
   "execution_count": 11,
   "id": "ce51e00f-dcf7-439c-bf03-fae70b4cf545",
   "metadata": {},
   "outputs": [
    {
     "data": {
      "text/plain": [
       "(300, 3, 221)"
      ]
     },
     "execution_count": 11,
     "metadata": {},
     "output_type": "execute_result"
    }
   ],
   "source": [
    "GN_nec.shape"
   ]
  },
  {
   "cell_type": "code",
   "execution_count": 21,
   "id": "9d70dbf9-7990-4d19-ab80-6fde746c653a",
   "metadata": {},
   "outputs": [],
   "source": [
    "#plt.plot(freqs_mhz,abs(GN_nec[0,2,:]))\n",
    "#plt.plot(freqs_mhz,abs(GN_nec[1,2,:]))\n",
    "#plt.plot(freqs_mhz,abs(GN_nec[2,2,:]))\n",
    "#plt.plot(freqs_mhz,abs(GN_nec[3,2,:]))\n",
    "#plt.plot(freqs_mhz,abs(GN_nec[4,2,:]))\n",
    "#plt.plot(freqs_mhz,abs(GN_nec[5,2,:]))\n",
    "#plt.plot(freqs_mhz,abs(GN_nec[6,2,:]))"
   ]
  },
  {
   "cell_type": "code",
   "execution_count": 22,
   "id": "51afc1f5-a158-4bf4-91bb-9d8a7eef5956",
   "metadata": {},
   "outputs": [],
   "source": [
    "np.save(\"galaxy_oc_nec.npy\",GN_nec)"
   ]
  },
  {
   "cell_type": "code",
   "execution_count": 2,
   "id": "75193a2c-ab73-43ba-a863-5d7f975ff72d",
   "metadata": {},
   "outputs": [],
   "source": [
    "#len(v_amplitude_infile)"
   ]
  },
  {
   "cell_type": "code",
   "execution_count": 16,
   "id": "e89d06a9-7c8f-4b35-a70e-fa1b27a1953f",
   "metadata": {},
   "outputs": [
    {
     "data": {
      "text/plain": [
       "(221, 3, 24)"
      ]
     },
     "execution_count": 16,
     "metadata": {},
     "output_type": "execute_result"
    }
   ],
   "source": [
    "gala_voltage.shape"
   ]
  },
  {
   "cell_type": "code",
   "execution_count": 17,
   "id": "b69a83a5-ca30-4892-8ac9-d666e6a90304",
   "metadata": {},
   "outputs": [],
   "source": [
    "gala_voltage2=np.load('/home/grand/data/noise/Vocmax_30-250MHz_uVperMHz_nec.npy')"
   ]
  },
  {
   "cell_type": "code",
   "execution_count": 18,
   "id": "cb6ef706-4fdf-48cc-ae5a-041d6e19abb6",
   "metadata": {},
   "outputs": [
    {
     "data": {
      "text/plain": [
       "(221, 24, 3)"
      ]
     },
     "execution_count": 18,
     "metadata": {},
     "output_type": "execute_result"
    }
   ],
   "source": [
    "gala_voltage2.shape"
   ]
  },
  {
   "cell_type": "code",
   "execution_count": 19,
   "id": "3be16f5b-4621-4abd-acbf-e039dd4924e2",
   "metadata": {},
   "outputs": [],
   "source": [
    "gala_voltage2 = np.transpose(gala_voltage2, (0, 2, 1))"
   ]
  },
  {
   "cell_type": "code",
   "execution_count": 20,
   "id": "524f45b2-04f2-45e7-a2e8-d9c745200d1a",
   "metadata": {},
   "outputs": [
    {
     "data": {
      "text/plain": [
       "(221, 3, 24)"
      ]
     },
     "execution_count": 20,
     "metadata": {},
     "output_type": "execute_result"
    }
   ],
   "source": [
    "gala_voltage2.shape"
   ]
  },
  {
   "cell_type": "code",
   "execution_count": 21,
   "id": "9b6d2bdd-10aa-4da0-9cb0-4550613ffb2b",
   "metadata": {},
   "outputs": [],
   "source": [
    "freqs_mhz = np.arange(30, 251, 1)\n",
    "nb_freq = len(freqs_mhz)\n",
    "freq_res = freqs_mhz[1] - freqs_mhz[0]\n",
    "v_amplitude_infile = v_amplitude_infile * np.sqrt(freq_res)\n",
    "v_amplitude = np.zeros((nb_freq, 3))\n",
    "v_amplitude[:, 0] = interpol_at_new_x(gala_freq[:, 0], v_amplitude_infile[:, 0], freqs_mhz)\n",
    "v_amplitude[:, 1] = interpol_at_new_x(gala_freq[:, 0], v_amplitude_infile[:, 1], freqs_mhz)\n",
    "v_amplitude[:, 2] = interpol_at_new_x(gala_freq[:, 0], v_amplitude_infile[:, 2], freqs_mhz)"
   ]
  },
  {
   "cell_type": "code",
   "execution_count": 14,
   "id": "899c3923-36c3-4501-a992-e8ce34c9126f",
   "metadata": {},
   "outputs": [],
   "source": [
    "# RK: above loop is replaced by lines below. Also np.random.default_rng(seed) is used instead of np.random.seed().\n",
    "#     if seed is a fixed number, same set of randomly generated number is produced. This is useful for testing.\n",
    "seed=0\n",
    "nb_ant = 300\n",
    "size_out = 20\n",
    "v_amplitude = v_amplitude.T\n",
    "rng   = np.random.default_rng(seed)     \n",
    "amp   = rng.normal(loc=0, scale=v_amplitude[np.newaxis,...], size=(nb_ant, 3, nb_freq))\n",
    "phase = 2 * np.pi * rng.random(size=(nb_ant, 3, nb_freq))\n",
    "v_complex = np.abs(amp * size_out / 2) * np.exp(1j * phase)"
   ]
  },
  {
   "cell_type": "code",
   "execution_count": 15,
   "id": "1f095738-b463-4727-bfd0-1fcfecfaefe7",
   "metadata": {},
   "outputs": [
    {
     "data": {
      "text/plain": [
       "(300, 3, 221)"
      ]
     },
     "execution_count": 15,
     "metadata": {},
     "output_type": "execute_result"
    }
   ],
   "source": [
    "v_complex.shape"
   ]
  },
  {
   "cell_type": "code",
   "execution_count": 16,
   "id": "9bc08cc4-0f3c-49a0-95f7-9e892d76777a",
   "metadata": {},
   "outputs": [
    {
     "data": {
      "text/plain": [
       "[<matplotlib.lines.Line2D at 0x7fb160462e20>]"
      ]
     },
     "execution_count": 16,
     "metadata": {},
     "output_type": "execute_result"
    },
    {
     "data": {
      "image/png": "[encoded data removed]",
      "text/plain": [
       "<Figure size 640x480 with 1 Axes>"
      ]
     },
     "metadata": {},
     "output_type": "display_data"
    }
   ],
   "source": [
    "plt.plot(freqs_mhz,abs(v_complex[23,2,:]))"
   ]
  },
  {
   "cell_type": "code",
   "execution_count": null,
   "id": "a1bd3771-5a5d-4e2f-9a66-d92bd30c3309",
   "metadata": {},
   "outputs": [],
   "source": []
  }
 ],
 "metadata": {
  "kernelspec": {
   "display_name": "Python 3 (ipykernel)",
   "language": "python",
   "name": "python3"
  },
  "language_info": {
   "codemirror_mode": {
    "name": "ipython",
    "version": 3
   },
   "file_extension": ".py",
   "mimetype": "text/x-python",
   "name": "python",
   "nbconvert_exporter": "python",
   "pygments_lexer": "ipython3",
   "version": "3.8.10"
  }
 },
 "nbformat": 4,
 "nbformat_minor": 5
}
