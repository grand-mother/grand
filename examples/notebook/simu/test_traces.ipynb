{
 "cells": [
  {
   "cell_type": "code",
   "execution_count": 15,
   "id": "67493a10",
   "metadata": {},
   "outputs": [],
   "source": [
    "import grand.io.root_files as grf\n",
    "import matplotlib.pyplot as plt\n",
    "import numpy as np"
   ]
  },
  {
   "cell_type": "code",
   "execution_count": 20,
   "id": "a0697191",
   "metadata": {},
   "outputs": [
    {
     "name": "stdout",
     "output_type": "stream",
     "text": [
      "Nb of units in Efield TTree: 96\n",
      "Unit 0 : position= [-2826.711  4079.999  2028.79 ]\n",
      "Unit 1 : position= [ -706.68115 -4488.001    2025.98   ]\n",
      "Unit 2 : position= [-2120.0312 -4488.001   2022.02  ]\n",
      "Unit 3 : position= [2120.0288 2039.9989 2073.79  ]\n",
      "Unit 4 : position= [4240.059  1631.9989 2039.08  ]\n",
      "Unit 5 : position= [-1413.3511 -3264.001   2022.93  ]\n",
      "Unit 6 : position= [-1413.3511  -816.001   2038.98  ]\n",
      "Unit 7 : position= [-2826.711  3263.999  1998.93 ]\n",
      "Unit 8 : position= [2120.0288   407.99902 2082.81   ]\n",
      "Unit 9 : position= [-2120.0312    407.99902  2023.42   ]\n",
      "Unit 10 : position= [  706.67896 -4488.001    2030.83   ]\n",
      "Unit 11 : position= [-1.2207031e-03 -4.0800010e+03  2.0284200e+03]\n",
      "Unit 12 : position= [-1413.3511  1631.9989  2014.8   ]\n",
      "Unit 13 : position= [-4240.061   1631.9989  2027.43  ]\n",
      "Unit 14 : position= [-1.2207031e-03  4.0799990e+03  2.0588000e+03]\n",
      "Unit 15 : position= [-1.2207031e-03  8.1599890e+02  2.0282600e+03]\n",
      "Unit 16 : position= [3533.379   -408.00098 2046.06   ]\n",
      "Unit 17 : position= [3533.379  2039.9989 2038.82  ]\n",
      "Unit 18 : position= [ 706.67896 2039.9989  2028.2    ]\n",
      "Unit 19 : position= [-2120.0312  4487.999   2058.87  ]\n",
      "Unit 20 : position= [-1413.3511  3263.999   2010.01  ]\n",
      "Unit 21 : position= [2826.709 4079.999 2060.9  ]\n",
      "Unit 22 : position= [-1.2207031e-03  3.2639990e+03  2.0242300e+03]\n",
      "Unit 23 : position= [3533.379    407.99902 2059.54   ]\n",
      "Unit 24 : position= [ -706.68115 -2856.001    2030.33   ]\n",
      "Unit 25 : position= [ -706.68115 -2040.001    2032.9    ]\n",
      "Unit 26 : position= [ 2826.709 -4080.001  2045.51 ]\n",
      "Unit 27 : position= [  706.67896 -2040.001    2037.04   ]\n",
      "Unit 28 : position= [ 3533.379 -2040.001  2039.05 ]\n",
      "Unit 29 : position= [-706.68115  407.99902 2014.79   ]\n",
      "Unit 30 : position= [-2120.0312  2855.999   2011.74  ]\n",
      "Unit 31 : position= [1413.3489 -816.001  2030.79  ]\n",
      "Unit 32 : position= [-706.68115 2039.9989  2033.19   ]\n",
      "Unit 33 : position= [ 2120.0288 -2856.001   2042.8   ]\n",
      "Unit 34 : position= [ 706.67896  407.99902 2034.52   ]\n",
      "Unit 35 : position= [-3533.3813 -2040.001   2013.54  ]\n",
      "Unit 36 : position= [-2120.0312   -408.00098  2034.32   ]\n",
      "Unit 37 : position= [-3533.3813    407.99902  2051.9    ]\n",
      "Unit 38 : position= [4240.059   815.9989 2046.97  ]\n",
      "Unit 39 : position= [ 2826.709 -3264.001  2034.61 ]\n",
      "Unit 40 : position= [-1.2207031e-03  1.6319989e+03  2.0373300e+03]\n",
      "Unit 41 : position= [-1413.3511  4079.999   2034.44  ]\n",
      "Unit 42 : position= [-706.68115 4487.999   2049.56   ]\n",
      "Unit 43 : position= [ 1413.3489 -4080.001   2029.72  ]\n",
      "Unit 44 : position= [2826.709   815.9989 2078.35  ]\n",
      "Unit 45 : position= [2826.709 3263.999 2042.68 ]\n",
      "Unit 46 : position= [-3533.3813 -2856.001   2013.51  ]\n",
      "Unit 47 : position= [-706.68115 -408.00098 2025.92   ]\n",
      "Unit 48 : position= [ 1413.3489 -1632.001   2028.95  ]\n",
      "Unit 49 : position= [2826.709 -816.001 2036.58 ]\n",
      "Unit 50 : position= [-2826.711  -816.001  2070.77 ]\n",
      "Unit 51 : position= [-4946.7407   -408.00098  2025.25   ]\n",
      "Unit 52 : position= [ 2120.0288 -2040.001   2028.79  ]\n",
      "Unit 53 : position= [-2120.0312  2039.9989  2006.06  ]\n",
      "Unit 54 : position= [1413.3489 3263.999  2037.36  ]\n",
      "Unit 55 : position= [-3533.3813  2039.9989  2020.61  ]\n",
      "Unit 56 : position= [ 4240.059 -1632.001  2037.41 ]\n",
      "Unit 57 : position= [-1.2207031e-03 -8.1600098e+02  2.0246300e+03]\n",
      "Unit 58 : position= [-2826.711    815.9989  2020.38  ]\n",
      "Unit 59 : position= [-4946.7407    407.99902  2013.47   ]\n",
      "Unit 60 : position= [-1413.3511 -4080.001   2020.27  ]\n",
      "Unit 61 : position= [-4240.061  -816.001  2035.87 ]\n",
      "Unit 62 : position= [2120.0288 4487.999  2059.82  ]\n",
      "Unit 63 : position= [1413.3489 4079.999  2066.16  ]\n",
      "Unit 64 : position= [-2826.711 -1632.001  2032.7  ]\n",
      "Unit 65 : position= [-1.2207031e-03 -1.6320010e+03  2.0381600e+03]\n",
      "Unit 66 : position= [4240.059 -816.001 2048.16 ]\n",
      "Unit 67 : position= [-1413.3511 -1632.001   2043.57  ]\n",
      "Unit 68 : position= [ 706.67896 2855.999   2023.41   ]\n",
      "Unit 69 : position= [3533.379 2855.999 2040.53 ]\n",
      "Unit 70 : position= [-1413.3511   815.9989  2007.32  ]\n",
      "Unit 71 : position= [-4240.061 -1632.001  2014.82 ]\n",
      "Unit 72 : position= [-1.2207031e-03 -3.2640010e+03  2.0376400e+03]\n",
      "Unit 73 : position= [ 1413.3489 -3264.001   2040.87  ]\n",
      "Unit 74 : position= [ 2120.0288 -4488.001   2033.21  ]\n",
      "Unit 75 : position= [-4240.061    815.9989  2014.97  ]\n",
      "Unit 76 : position= [-3533.3813  2855.999   2010.76  ]\n",
      "Unit 77 : position= [2120.0288 2855.999  2033.61  ]\n",
      "Unit 78 : position= [4946.739    407.99902 2047.69   ]\n",
      "Unit 79 : position= [4946.739   -408.00098 2052.22   ]\n",
      "Unit 80 : position= [-2826.711 -4080.001  2015.84 ]\n",
      "Unit 81 : position= [-706.68115 2855.999   2015.75   ]\n",
      "Unit 82 : position= [1413.3489 1631.9989 2045.62  ]\n",
      "Unit 83 : position= [2120.0288  -408.00098 2043.17   ]\n",
      "Unit 84 : position= [1413.3489  815.9989 2065.56  ]\n",
      "Unit 85 : position= [ 3533.379 -2856.001  2031.27 ]\n",
      "Unit 86 : position= [ 706.67896 -408.00098 2021.61   ]\n",
      "Unit 87 : position= [  706.67896 -2856.001    2046.7    ]\n",
      "Unit 88 : position= [-2120.0312 -2856.001   2020.2   ]\n",
      "Unit 89 : position= [ 2826.709 -1632.001  2029.24 ]\n",
      "Unit 90 : position= [2826.709  1631.9989 2051.15  ]\n",
      "Unit 91 : position= [-2120.0312 -2040.001   2031.07  ]\n",
      "Unit 92 : position= [-3533.3813   -408.00098  2063.93   ]\n",
      "Unit 93 : position= [-2826.711   1631.9989  2010.14  ]\n",
      "Unit 94 : position= [-2826.711 -3264.001  2019.75 ]\n",
      "Unit 95 : position= [ 706.67896 4487.999   2060.42   ]\n"
     ]
    },
    {
     "data": {
      "text/plain": [
       "[<matplotlib.lines.Line2D at 0x7fe5cfd00df0>]"
      ]
     },
     "execution_count": 20,
     "metadata": {},
     "output_type": "execute_result"
    },
    {
     "data": {
      "image/png": "[encoded data removed]",
      "text/plain": [
       "<Figure size 432x288 with 1 Axes>"
      ]
     },
     "metadata": {
      "needs_background": "light"
     },
     "output_type": "display_data"
    }
   ],
   "source": [
    "f = \"/home/soft/data_challenge1/coarse_subei_traces_root/Coarse2.root\"  #\n",
    "# f = '/home/data/sim/zozo_full_nonoise.root'\n",
    "# ff = grf.FileEvent()\n",
    "# aa = grf.FileSimuEfield(f)\n",
    "efield = grf.FileSimuEfield(f)\n",
    "print(\"Nb of units in Efield TTree:\", efield.nb_du)\n",
    "for i in range(efield.nb_du):\n",
    "    print(\"Unit\", i, \": position=\", efield.du_pos[i, :])\n",
    "plt.figure()\n",
    "plt.plot(efield.du_pos[:, 0], efield.du_pos[:, 1], \"o\")"
   ]
  },
  {
   "cell_type": "code",
   "execution_count": 25,
   "id": "29cc007c",
   "metadata": {},
   "outputs": [
    {
     "name": "stdout",
     "output_type": "stream",
     "text": [
      "96 units with 3 channels. Trace length: 999\n"
     ]
    }
   ],
   "source": [
    "trace = efield.get_obj_handlingtracesofevent()\n",
    "# print(np.shape(efield.traces))\n",
    "print(\n",
    "    np.shape(efield.traces)[0],\n",
    "    \"units with\",\n",
    "    np.shape(efield.traces)[1],\n",
    "    \"channels. Trace length:\",\n",
    "    np.shape(efield.traces)[2],\n",
    ")\n",
    "plt  # trace.plot_trace_idx(10)"
   ]
  },
  {
   "cell_type": "code",
   "execution_count": 29,
   "id": "7e39fb68",
   "metadata": {},
   "outputs": [
    {
     "name": "stderr",
     "output_type": "stream",
     "text": [
      "File /home/soft/data_challenge1/coarse_subei_traces_root/Coarse2.root doesn't content TTree teventvoltage\n"
     ]
    },
    {
     "ename": "AssertionError",
     "evalue": "",
     "output_type": "error",
     "traceback": [
      "\u001b[0;31m---------------------------------------------------------------------------\u001b[0m",
      "\u001b[0;31mAssertionError\u001b[0m                            Traceback (most recent call last)",
      "Input \u001b[0;32mIn [29]\u001b[0m, in \u001b[0;36m<cell line: 1>\u001b[0;34m()\u001b[0m\n\u001b[0;32m----> 1\u001b[0m aa \u001b[38;5;241m=\u001b[39m grf\u001b[38;5;241m.\u001b[39mFileVoltageEvent(\u001b[38;5;124m'\u001b[39m\u001b[38;5;124m/home/soft/data_challenge1/coarse_subei_traces_root/Coarse2.root\u001b[39m\u001b[38;5;124m'\u001b[39m)\n\u001b[1;32m      2\u001b[0m \u001b[38;5;66;03m#aa = grf.FileSimuEfield(f)\u001b[39;00m\n\u001b[1;32m      3\u001b[0m trace \u001b[38;5;241m=\u001b[39m aa\u001b[38;5;241m.\u001b[39mget_obj_handlingtracesofevent()\n",
      "File \u001b[0;32m/home/soft/grand/grand/io/root_files.py:224\u001b[0m, in \u001b[0;36mFileVoltageEvent.__init__\u001b[0;34m(self, f_name)\u001b[0m\n\u001b[1;32m    222\u001b[0m \u001b[38;5;28;01mif\u001b[39;00m \u001b[38;5;129;01mnot\u001b[39;00m check_ttree_in_file(f_name, name_ttree):\n\u001b[1;32m    223\u001b[0m     logger\u001b[38;5;241m.\u001b[39merror(\u001b[38;5;124mf\u001b[39m\u001b[38;5;124m\"\u001b[39m\u001b[38;5;124mFile \u001b[39m\u001b[38;5;132;01m{\u001b[39;00mf_name\u001b[38;5;132;01m}\u001b[39;00m\u001b[38;5;124m doesn\u001b[39m\u001b[38;5;124m'\u001b[39m\u001b[38;5;124mt content TTree \u001b[39m\u001b[38;5;132;01m{\u001b[39;00mname_ttree\u001b[38;5;132;01m}\u001b[39;00m\u001b[38;5;124m\"\u001b[39m)\n\u001b[0;32m--> 224\u001b[0m     \u001b[38;5;28;01mraise\u001b[39;00m \u001b[38;5;167;01mAssertionError\u001b[39;00m\n\u001b[1;32m    225\u001b[0m logger\u001b[38;5;241m.\u001b[39minfo(\u001b[38;5;124mf\u001b[39m\u001b[38;5;124m\"\u001b[39m\u001b[38;5;124mEvents  in file \u001b[39m\u001b[38;5;132;01m{\u001b[39;00mf_name\u001b[38;5;132;01m}\u001b[39;00m\u001b[38;5;124m\"\u001b[39m)\n\u001b[1;32m    226\u001b[0m event \u001b[38;5;241m=\u001b[39m groot\u001b[38;5;241m.\u001b[39mVoltageEventTree(f_name)\n",
      "\u001b[0;31mAssertionError\u001b[0m: "
     ]
    }
   ],
   "source": [
    "aa = grf.FileVoltageEvent(\"/home/soft/data_challenge1/coarse_subei_traces_root/Coarse2.root\")\n",
    "# aa = grf.FileSimuEfield(f)\n",
    "trace = aa.get_obj_handlingtracesofevent()\n",
    "trace.plot_trace_idx(1)"
   ]
  }
 ],
 "metadata": {
  "kernelspec": {
   "display_name": "Python 3 (ipykernel)",
   "language": "python",
   "name": "python3"
  },
  "language_info": {
   "codemirror_mode": {
    "name": "ipython",
    "version": 3
   },
   "file_extension": ".py",
   "mimetype": "text/x-python",
   "name": "python",
   "nbconvert_exporter": "python",
   "pygments_lexer": "ipython3",
   "version": "3.8.10"
  }
 },
 "nbformat": 4,
 "nbformat_minor": 5
}
