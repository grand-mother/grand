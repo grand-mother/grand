{
 "cells": [
  {
   "cell_type": "code",
   "execution_count": 111,
   "id": "e5cbc7c0-e943-4bba-bb1a-ad0667b7eeeb",
   "metadata": {},
   "outputs": [],
   "source": [
    "import numpy as np\n",
    "import h5py\n",
    "import scipy.fft as sf\n",
    "import grand.sim.detector.rf_chain2 as grfc\n",
    "from grand import grand_add_path_data\n",
    "import grand.manage_log as mlg\n",
    "import matplotlib.pyplot as plt\n",
    "\n",
    "#########################################################\n",
    "def interp(x,y,z):\n",
    "    return np.interp(x,y,z)\n",
    "#########################################################\n",
    "\n",
    "def Compute_S_ABCD_matrix_db(filename):\n",
    "    element = grfc.Rfchain_elements_db(filename=filename) #If the components of the .s2p file are in deciBel\n",
    "    #element = grfc.Rfchain_elements(filename=\"cable+Connector.s2p\") #If the components of the .s2p file are in complex numbers\n",
    "    element.compute_for_freqs(freq_MHz)\n",
    "    S_matrix1 = np.stack([element.s11[0], element.s12[0], element.s21[0], element.s22[0]], axis=1)\n",
    "    #The S matrix of the RF_chain element: S_matrix[:,0,0] = s11, S_matrix[:,0,1] = s12, S_matrix[:,1,0] = s21, S_matrix[:,1,1] = s22\n",
    "    S_matrix = np.reshape(S_matrix1, (290, 2, 2)) #The S matrix of the RF_chain element \n",
    "    ABCD_matrix1 = np.stack([element.ABCD_matrix[0,0,0,:], element.ABCD_matrix[0,1,0,:], element.ABCD_matrix[1,0,0,:], element.ABCD_matrix[1,1,0,:]], axis=1)\n",
    "    ABCD_matrix = np.reshape(ABCD_matrix1, (290, 2, 2)) #The ABCD matrix of the RF_chain element\n",
    "    return S_matrix, ABCD_matrix\n",
    "\n",
    "#########################################################\n",
    "\n",
    "def Compute_S_ABCD_matrix(filename):\n",
    "    element = grfc.Rfchain_elements(filename=filename) #If the components of the .s2p file are in complex numbers\n",
    "    element.compute_for_freqs(freq_MHz)\n",
    "    S_matrix1 = np.stack([element.s11[0], element.s12[0], element.s21[0], element.s22[0]], axis=1)\n",
    "    #The S matrix of the RF_chain element: S_matrix[:,0,0] = s11, S_matrix[:,0,1] = s12, S_matrix[:,1,0] = s21, S_matrix[:,1,1] = s22\n",
    "    S_matrix = np.reshape(S_matrix1, (290, 2, 2)) #The S matrix of the RF_chain element \n",
    "    ABCD_matrix1 = np.stack([element.ABCD_matrix[0,0,0,:], element.ABCD_matrix[0,1,0,:], element.ABCD_matrix[1,0,0,:], element.ABCD_matrix[1,1,0,:]], axis=1)\n",
    "    #The ABCD matrix of the RF_chain element: ABCD_matrix[:,0,0] = a11, ABCD_matrix[:,0,1] = a12, ABCD_matrix[:,1,0] = a21, ABCD_matrix[:,1,1] = a22\n",
    "    ABCD_matrix = np.reshape(ABCD_matrix1, (290, 2, 2)) #The ABCD matrix of the RF_chain element\n",
    "    return S_matrix, ABCD_matrix\n",
    "\n",
    "#########################################################\n",
    "#Calculate the load impedance providing the element .s1p file\n",
    "def Load_impedance(filename):\n",
    "    element = grfc.Zload_arb(filename=filename)\n",
    "    element.compute_for_freqs(freq_MHz)\n",
    "    return element.Z_load\n",
    "###########################################################\n",
    "\n",
    "def Ant_impedance(filename):\n",
    "    Zant_dat = np.loadtxt(grand_add_path_data(os.path.join(\"detector\", \"RFchain_v2\", filename)), delimiter=\",\", comments=['#', '!'], skiprows=1)\n",
    "    freqs_in = Zant_dat[:,0]  # MHz\n",
    "    ZantX=interp(freq_MHz,Zant_dat[:,0],Zant_dat[:,1])+1j*interp(freq_MHz,Zant_dat[:,0],Zant_dat[:,2])\n",
    "    ZantY=interp(freq_MHz,Zant_dat[:,0],Zant_dat[:,3])+1j*interp(freq_MHz,Zant_dat[:,0],Zant_dat[:,4])\n",
    "    ZantZ=interp(freq_MHz,Zant_dat[:,0],Zant_dat[:,5])+1j*interp(freq_MHz,Zant_dat[:,0],Zant_dat[:,6])\n",
    "    return ZantX, ZantY, ZantZ\n",
    "#########################################################\n",
    "\n",
    "def from_ABCD_to_S(ABCD_matrix,Z0):\n",
    "    #normalize port 1 and port 2 to Z0\n",
    "    a=np.zeros((len(freqs),2,2),dtype='complex')    \n",
    "    div = ABCD_matrix[:,0,0] + ABCD_matrix[:,0,1]/Z0 + ABCD_matrix[:,1,0]*Z0 + ABCD_matrix[:,1,1]\n",
    "    a[:,0,0]=(ABCD_matrix[:,0,0] + ABCD_matrix[:,0,1]/Z0 - ABCD_matrix[:,1,0]*Z0 - ABCD_matrix[:,1,1]) /div\n",
    "    a[:,0,1]=2*(ABCD_matrix[:,0,0]*ABCD_matrix[:,1,1]-ABCD_matrix[:,1,0]*ABCD_matrix[:,0,1])/div\n",
    "    a[:,1,0]=2/div\n",
    "    a[:,1,1]=(-ABCD_matrix[:,0,0]+ABCD_matrix[:,0,1]/Z0- ABCD_matrix[:,1,0]*Z0 +ABCD_matrix[:,1,1]) /div\n",
    "    return a\n",
    "\n",
    "#########################################################\n",
    "\n",
    "def from_S_to_ABCD(S_Matrix,Z01,Z02):    \n",
    "    a=np.zeros((len(freqs),2,2),dtype='complex')\n",
    "    a[:,0,0]=((1+S_Matrix[:,0,0])*(1-S_Matrix[:,1,1])+S_Matrix[:,0,1]*S_Matrix[:,1,0]) / (2*S_Matrix[:,1,0])\n",
    "    a[:,0,1]=((1+S_Matrix[:,0,0])*(1+S_Matrix[:,1,1])-S_Matrix[:,0,1]*S_Matrix[:,1,0]) / (2*S_Matrix[:,1,0])\n",
    "    a[:,1,0]=((1-S_Matrix[:,0,0])*(1-S_Matrix[:,1,1])-S_Matrix[:,0,1]*S_Matrix[:,1,0]) / (2*S_Matrix[:,1,0])\n",
    "    a[:,1,1]=((1-S_Matrix[:,0,0])*(1+S_Matrix[:,1,1])+S_Matrix[:,0,1]*S_Matrix[:,1,0]) / (2*S_Matrix[:,1,0])\n",
    "    factor=np.array([[1/np.sqrt(Z02/Z01),np.sqrt(Z01*Z02)],[1/np.sqrt(Z01*Z02),1/np.sqrt(Z01/Z02)]]) #to denormalize a\n",
    "    return a*factor\n",
    "\n",
    "#########################################################\n",
    "\n",
    "def from_S_to_TF(S_Matrix,ZLoad,Zant,Z01,Z02):\n",
    "    Gant=(Zant-Z01)/(Zant+Z01)\n",
    "    GLoad=(ZLoad-Z02)/(ZLoad+Z02)\n",
    "    Gin=S_Matrix[:,0,0]+(S_Matrix[:,0,1]*S_Matrix[:,1,0])/(1-S_Matrix[:,1,1]*GLoad)\n",
    "    Voc=1\n",
    "    Vout=Voc*0.5*(1-Gant)/(1-Gin*Gant)*S_Matrix[:,1,0]*(GLoad+1)/(1-S_Matrix[:,1,1]*GLoad)\n",
    "    return Vout\n",
    "\n",
    "#########################################################\n",
    "\n",
    "def from_ABCD_to_TF(ABCD_matrix,ABCD_bis,ZLoad,Zant):\n",
    "    Zin=(ABCD_matrix[:,0,0]*ZLoad+ABCD_matrix[:,0,1])/(ABCD_matrix[:,1,0]*ZLoad+ABCD_matrix[:,1,1])\n",
    "    Voc=1\n",
    "    I1=Voc/(Zin+Zant)\n",
    "    V1=I1*Zin\n",
    "    V1I1=np.zeros((len(freqs),2,1),dtype='complex')\n",
    "    V1I1[:,0,0]=V1\n",
    "    V1I1[:,1,0]=I1\n",
    "    invABCD=np.linalg.inv(ABCD_matrix)\n",
    "    invABCDbis=np.linalg.inv(ABCD_bis)\n",
    "    V2=np.matmul(invABCD,V1I1)[:,0,0]\n",
    "    I2=np.matmul(invABCD,V1I1)[:,1,0]\n",
    "    V2balun=np.matmul(invABCDbis,V1I1)[:,0,0]\n",
    "    I2balun=np.matmul(invABCDbis,V1I1)[:,1,0]\n",
    "    return V2,V2balun,I2\n",
    "\n",
    "#########################################################\n",
    "\n",
    "def plotSmatrix(sMatrix,title=''):\n",
    "    plt.plot(freq_MHz,np.real(sMatrix[:,0,0]))#s11\n",
    "    plt.plot(freq_MHz,np.real(sMatrix[:,0,1]))#s12\n",
    "    plt.plot(freq_MHz,np.real(sMatrix[:,1,0]))#s21\n",
    "    plt.plot(freq_MHz,np.real(sMatrix[:,1,1]))#s22\n",
    "    plt.grid()\n",
    "    plt.title(title)\n",
    "    plt.legend(['s11','s12','s21','s22'])\n",
    "    plt.xlabel('Frequency [MHz]')\n",
    "    plt.ylabel('real(s-parameters)')\n",
    "    plt.show()  \n",
    "      \n",
    "    plt.plot(freq_MHz,np.imag(sMatrix[:,0,0]))#s11\n",
    "    plt.plot(freq_MHz,np.imag(sMatrix[:,0,1]))#s12\n",
    "    plt.plot(freq_MHz,np.imag(sMatrix[:,1,0]))#s21\n",
    "    plt.plot(freq_MHz,np.imag(sMatrix[:,1,1]))#s22\n",
    "    plt.grid()\n",
    "    plt.title(title)\n",
    "    plt.legend(['s11','s12','s21','s22'])\n",
    "    plt.xlabel('Frequency [MHz]')\n",
    "    plt.ylabel('imag(s-parameters)')\n",
    "    plt.show()\n",
    "    \n",
    "    plt.plot(freq_MHz,np.abs(sMatrix[:,0,0]))#s11\n",
    "    plt.plot(freq_MHz,np.abs(sMatrix[:,0,1]))#s12\n",
    "    plt.plot(freq_MHz,np.abs(sMatrix[:,1,0]))#s21\n",
    "    plt.plot(freq_MHz,np.abs(sMatrix[:,1,1]))#s22\n",
    "    plt.grid()\n",
    "    plt.title(title)\n",
    "    plt.legend(['s11','s12','s21','s22'])\n",
    "    plt.xlabel('Frequency [MHz]')\n",
    "    plt.ylabel('abs(s-parameters)')\n",
    "    plt.show()\n",
    "    \n",
    "#########################################################\n",
    "\n",
    "def plotABCDmatrix(ABCD_matrix,title=''):\n",
    "    plt.plot(freq_MHz,np.real(ABCD_matrix[:,0,0]))#a11\n",
    "    plt.plot(freq_MHz,np.real(ABCD_matrix[:,0,1]))#a12\n",
    "    plt.plot(freq_MHz,np.real(ABCD_matrix[:,1,0]))#a21\n",
    "    plt.plot(freq_MHz,np.real(ABCD_matrix[:,1,1]))#a22\n",
    "    plt.grid()\n",
    "    plt.title(title)\n",
    "    plt.legend(['a11','a12','a21','a22'])\n",
    "    plt.xlabel('Frequency [MHz]')\n",
    "    plt.ylabel('real(a-parameters)')\n",
    "    plt.show()  \n",
    "      \n",
    "    plt.plot(freq_MHz,np.imag(ABCD_matrix[:,0,0]))#a11\n",
    "    plt.plot(freq_MHz,np.imag(ABCD_matrix[:,0,1]))#a12\n",
    "    plt.plot(freq_MHz,np.imag(ABCD_matrix[:,1,0]))#a21\n",
    "    plt.plot(freq_MHz,np.imag(ABCD_matrix[:,1,1]))#a22\n",
    "    plt.grid()\n",
    "    plt.title(title)\n",
    "    plt.legend(['a11','a12','a21','a22'])\n",
    "    plt.xlabel('Frequency [MHz]')\n",
    "    plt.ylabel('imag(a-parameters)')\n",
    "    plt.show()\n",
    "    \n",
    "    plt.plot(freq_MHz,np.abs(ABCD_matrix[:,0,0]))#a11\n",
    "    plt.plot(freq_MHz,np.abs(ABCD_matrix[:,0,1]))#a12\n",
    "    plt.plot(freq_MHz,np.abs(ABCD_matrix[:,1,0]))#a21\n",
    "    plt.plot(freq_MHz,np.abs(ABCD_matrix[:,1,1]))#a22\n",
    "    plt.grid()\n",
    "    plt.title(title)\n",
    "    plt.legend(['a11','a12','a21','a22'])\n",
    "    plt.xlabel('Frequency [MHz]')\n",
    "    plt.ylabel('abs(a-parameters)')\n",
    "    plt.show()\n",
    "    \n",
    "#########################################################\n",
    "\n",
    "def plotImpedance(Impedance,title=''):\n",
    "    plt.plot(freq_MHz,np.real(Impedance))#real\n",
    "    plt.plot(freq_MHz,np.imag(Impedance))#imag\n",
    "    plt.plot(freq_MHz,np.abs(Impedance))#abs\n",
    "    plt.grid()\n",
    "    plt.title(title)\n",
    "    plt.legend(['real','imag','abs'])\n",
    "    plt.xlabel('Frequency [MHz]')\n",
    "    plt.ylabel('$\\Omega$')\n",
    "    plt.show() \n",
    "    \n",
    "#########################################################"
   ]
  },
  {
   "cell_type": "markdown",
   "id": "46bebba9-8ea1-4250-946c-7c51708d60ef",
   "metadata": {},
   "source": [
    "- Setting Frequency range for parameters (S_matrix, ABCD_matrix) calculation"
   ]
  },
  {
   "cell_type": "code",
   "execution_count": 112,
   "id": "48ef4d69-4c94-4fe5-82c1-3405759e1b95",
   "metadata": {},
   "outputs": [],
   "source": [
    "freq_MHz = np.arange(10, 300, 1) # in MHz"
   ]
  },
  {
   "cell_type": "markdown",
   "id": "eae38fd0-8ec0-43a5-bf18-9c01e25a7b97",
   "metadata": {},
   "source": [
    "- Place the .s2p file of the RF chain element in the data folder: /data/detector/RFchain_v2/\n",
    "\n",
    "- Then the components of the S and ABCD matrix are calculated using Compute_S_ABCD_matrix_db function (if the components of the .s2p file are in deciBel) or using Compute_S_ABCD_matrix_db (if the components of the .s2p file are in complex numbers)"
   ]
  },
  {
   "cell_type": "markdown",
   "id": "7184cead-5612-415d-9d12-165736ed78c9",
   "metadata": {},
   "source": [
    "- Example: Please choose one (or more) of the availiable RF chain files"
   ]
  },
  {
   "cell_type": "markdown",
   "id": "8d6a487b-4201-4654-8887-acf92b2807f5",
   "metadata": {},
   "source": [
    "- balun13in20230612.s2p (balun1)\n",
    "\n",
    "- XY_matching_network.s2p (matching network for X, Y arms)\n",
    "\n",
    "- Z_matching_network.s2p (matching network for Z arms)\n",
    "\n",
    "- lna.s2p (LNA)\n",
    "\n",
    "- cable+Connector.s2p (cables-connectors)\n",
    "\n",
    "- vga0db+filter.s2p (vga 0 dB)\n",
    "\n",
    "- vga5db+filter.s2p (vga 5 dB)\n",
    "\n",
    "- ga20db+filter.s2p (vga 20 dB)\n",
    "\n",
    "- balun_before_ad.s2p (balun2)"
   ]
  },
  {
   "cell_type": "markdown",
   "id": "2567139b-4921-4f92-a521-4b8032116111",
   "metadata": {},
   "source": [
    "- Run the function Compute_S_ABCD_matrix(filename), if the components of the elements are in complex numbers or Compute_S_ABCD_matrix_db(filename), if the components of the elements are in dB."
   ]
  },
  {
   "cell_type": "code",
   "execution_count": 124,
   "id": "14afeb9d-668d-4215-8819-22b6f74cf336",
   "metadata": {},
   "outputs": [],
   "source": [
    "#Calculate the S and ABCD matrix for different elements\n",
    "\n",
    "S_balun1, ABCD_balun1 = Compute_S_ABCD_matrix(\"balun13in20230612.s2p\") #note in this file no deciBel\n",
    "S_matching_network_X, ABCD_matching_network_X = Compute_S_ABCD_matrix(\"XY_matching_network.s2p\")\n",
    "S_matching_network_Z, ABCD_matching_network_Z = Compute_S_ABCD_matrix(\"Z_matching_network.s2p\")\n",
    "S_LNA, ABCD_LNA = Compute_S_ABCD_matrix_db(\"lna.s2p\")\n",
    "S_cable, ABCD_cable = Compute_S_ABCD_matrix_db(\"cable+Connector.s2p\")\n",
    "S_vga, ABCD_vga = Compute_S_ABCD_matrix_db(\"vga20db+filter.s2p\")\n",
    "S_balun2, ABCD_balun2 = Compute_S_ABCD_matrix(\"balun_before_ad.s2p\")"
   ]
  },
  {
   "cell_type": "markdown",
   "id": "3a1a6a37-24ba-45c6-8abd-6787d60c51fd",
   "metadata": {},
   "source": [
    "- The S matrix of the RF_chain element: S_matrix[:,0,0] = s11,  S_matrix[:,0,1] = s12,  S_matrix[:,1,0] = s21,  S_matrix[:,1,1] = s22\n",
    "\n",
    "- The ABCD matrix of the RF_chain element: ABCD_matrix[:,0,0] = a11, ABCD_matrix[:,0,1] = a12, ABCD_matrix[:,1,0] = a21, ABCD_matrix[:,1,1] = a22"
   ]
  },
  {
   "cell_type": "markdown",
   "id": "f0efe0d5-146c-4c69-a1cd-9fc3c3e55803",
   "metadata": {},
   "source": [
    "- You can plot the S or ABCD matrix parameters using\n",
    "\n",
    "- plotSmatrix(S_LNA,title='S_LNA')\n",
    "\n",
    "- plotABCDmatrix(ABCD_balun1,title='S_balun1')"
   ]
  },
  {
   "cell_type": "code",
   "execution_count": 114,
   "id": "0725d45d-05ed-4e4c-a2e9-49cf9f8cee7a",
   "metadata": {},
   "outputs": [],
   "source": [
    "#plotSmatrix(S_LNA,title='S_LNA')\n",
    "#plotABCDmatrix(ABCD_balun1,title='S_balun1')"
   ]
  },
  {
   "cell_type": "markdown",
   "id": "94d879f0-dc13-48bb-ba49-71699bd0948d",
   "metadata": {},
   "source": [
    "- Calculate the Load impedance providing the .s1p file of the element. "
   ]
  },
  {
   "cell_type": "code",
   "execution_count": 115,
   "id": "e9efdc03-0134-4c05-a6f3-3ec60ea02a3b",
   "metadata": {},
   "outputs": [],
   "source": [
    "Zload=Load_impedance(\"S_balun_AD.s1p\")"
   ]
  },
  {
   "cell_type": "markdown",
   "id": "8b4ade3f-eafe-4761-9843-f5a000cb7197",
   "metadata": {},
   "source": [
    "- Calculate the ADC impedance using Zload and ABCD_balun2 matrix (a11, a12, a21, a22)\n",
    "- Zload = (a11 * Z_ADC + a12) / (a21 * Z_ACD + a22) --> Z_ADC = (a12 - Zload * a22)/(Zload * a21 - a11)"
   ]
  },
  {
   "cell_type": "code",
   "execution_count": 116,
   "id": "6426156e-196d-4d2b-93bb-bd0d44ad4d24",
   "metadata": {},
   "outputs": [],
   "source": [
    "Z_ADC = (ABCD_balun2[:,0,1] - Zload*ABCD_balun2[:,1,1]) / (Zload1*ABCD_balun2[:,1,0] - ABCD_balun2[:,0,0]) "
   ]
  },
  {
   "cell_type": "markdown",
   "id": "0c159f16-4a0a-4d3c-b811-feb9d4be040d",
   "metadata": {},
   "source": [
    "- Read the antenna impedance for X, Y, Z arms using \"Ant_impedance(filename)\" providing the antenna impedance file (eg: Z_ant_3.2m.csv)  \n",
    "\n",
    "- The antenna impedance file format is as follows:\n",
    "- \"Freq [MHz]\",\"re(Z(1,1))\",\"im(Z(1,1))\",\"re(Z(2,2))\",\"im(Z(2,2))\",\"re(Z(3,3))\",\"im(Z(3,3))\""
   ]
  },
  {
   "cell_type": "code",
   "execution_count": 117,
   "id": "e64d22fb-f93d-4858-9d9c-06d2f30a9611",
   "metadata": {},
   "outputs": [],
   "source": [
    "ZantX, ZantY, ZantZ = Ant_impedance(\"Z_ant_3.2m.csv\")"
   ]
  },
  {
   "cell_type": "markdown",
   "id": "e2e4730f-9f7b-4156-8bbb-e62f2bb1ff92",
   "metadata": {},
   "source": [
    "Plot impedance "
   ]
  },
  {
   "cell_type": "code",
   "execution_count": 118,
   "id": "510d58ce-89c4-497d-93d8-2ad2ed4c2bc5",
   "metadata": {},
   "outputs": [],
   "source": [
    "#plotImpedance(Z_ADC,title='Z_ADC')\n",
    "#plotImpedance(Zload,title='Zload')\n",
    "#plotImpedance(ZantX,title='ZantX')\n",
    "#plotImpedance(ZantY,title='ZantY')\n",
    "#plotImpedance(ZantZ,title='ZantZ')"
   ]
  },
  {
   "cell_type": "markdown",
   "id": "56a1c3a4-af24-4719-8c57-a4aa8f999fc5",
   "metadata": {},
   "source": [
    "- Compute the ABCD matrix of two or more elements using matix multiplication, e.g. A_tot= A1 * A2 * ...\n",
    "- Convert it to S-matrix of two or more elements using the function from_ABCD_to_S(ABCD_matrix,Z0=50)\n",
    "- The ABCD matrix and the S-matrix of the full chain is "
   ]
  },
  {
   "cell_type": "code",
   "execution_count": 125,
   "id": "da9c238a-ddf5-46db-a280-6486ed1727bf",
   "metadata": {},
   "outputs": [],
   "source": [
    "ABCD_tot=np.matmul(np.matmul(np.matmul(np.matmul(np.matmul(ABCD_balun1,ABCD_matching_network_Z),ABCD_LNA),ABCD_cable),ABCD_vga),ABCD_balun2)"
   ]
  },
  {
   "cell_type": "code",
   "execution_count": 126,
   "id": "568de170-80af-486e-8806-786fb472ae2d",
   "metadata": {},
   "outputs": [],
   "source": [
    "Smatrix_tot=from_ABCD_to_S(ABCD_tot,50)"
   ]
  },
  {
   "cell_type": "code",
   "execution_count": 121,
   "id": "cd81ae41-5877-4c0c-9588-77f390c13b43",
   "metadata": {},
   "outputs": [],
   "source": [
    "#ABCD_tot=from_S_to_ABCD(Smatrix_tot,50,50)"
   ]
  },
  {
   "cell_type": "markdown",
   "id": "eaf79eef-3cce-4add-8f2d-0d70efee25d5",
   "metadata": {},
   "source": [
    "- Finally compute the Transfer functions (TF) of an element (or the full chain) using the function \n",
    "- from_S_to_TF(S_matrix,Zload,Zant,Z01=50,Z02=50) "
   ]
  },
  {
   "cell_type": "code",
   "execution_count": 127,
   "id": "a9d4ac60-6158-4b7a-b44e-50335b898c4f",
   "metadata": {},
   "outputs": [],
   "source": [
    "VoutZ=from_S_to_TF(Smatrix_tot,Z_ADC,ZantZ,50,50)"
   ]
  },
  {
   "cell_type": "code",
   "execution_count": 132,
   "id": "138e4006-fcf7-406f-ba04-8dd9d8f5b2be",
   "metadata": {},
   "outputs": [
    {
     "data": {
      "image/png": "[encoded data removed]",
      "text/plain": [
       "<Figure size 640x480 with 1 Axes>"
      ]
     },
     "metadata": {},
     "output_type": "display_data"
    }
   ],
   "source": [
    "plt.plot(freq_MHz, np.abs(Vout))\n",
    "plt.plot(freq_MHz, np.abs(VoutZ))\n",
    "plt.grid()\n",
    "plt.title(\"Full chain TF\")\n",
    "plt.legend(['X,Y','Z'])\n",
    "plt.xlabel('Frequency [MHz]')\n",
    "plt.ylabel('TF')\n",
    "plt.show() "
   ]
  },
  {
   "cell_type": "code",
   "execution_count": null,
   "id": "846001c8-194f-42d5-8319-2bd2004d0259",
   "metadata": {},
   "outputs": [],
   "source": []
  }
 ],
 "metadata": {
  "kernelspec": {
   "display_name": "Python 3 (ipykernel)",
   "language": "python",
   "name": "python3"
  },
  "language_info": {
   "codemirror_mode": {
    "name": "ipython",
    "version": 3
   },
   "file_extension": ".py",
   "mimetype": "text/x-python",
   "name": "python",
   "nbconvert_exporter": "python",
   "pygments_lexer": "ipython3",
   "version": "3.8.10"
  }
 },
 "nbformat": 4,
 "nbformat_minor": 5
}
